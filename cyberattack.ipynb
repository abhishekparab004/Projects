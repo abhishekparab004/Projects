{
 "cells": [
  {
   "cell_type": "markdown",
   "metadata": {},
   "source": [
    "  # Cyber Attack"
   ]
  },
  {
   "cell_type": "markdown",
   "metadata": {},
   "source": [
    "Importing the basic library"
   ]
  },
  {
   "cell_type": "code",
   "execution_count": 1,
   "metadata": {},
   "outputs": [],
   "source": [
    "import pandas as pd  # to read the dataset and store it in dataframe\n",
    "import numpy as np # for numeric operation\n",
    "import seaborn as sns # for visualization\n",
    "import matplotlib.pyplot as plt # for visualization"
   ]
  },
  {
   "cell_type": "markdown",
   "metadata": {},
   "source": [
    "Loading the data set"
   ]
  },
  {
   "cell_type": "code",
   "execution_count": 2,
   "metadata": {},
   "outputs": [
    {
     "name": "stdout",
     "output_type": "stream",
     "text": [
      "      Year                Organisation Critical Industry Organisation size  \\\n",
      "0     2016               1-800-Flowers                No             Large   \n",
      "1     2017       ABCD Pediatrics, P.A.               Yes            Medium   \n",
      "2     2014  ABM Parking Services, Inc.                No             Large   \n",
      "3     2012            Accretive Health               Yes             Small   \n",
      "4     2018     AccuDoc Solutions, Inc.               Yes               NaN   \n",
      "...    ...                         ...               ...               ...   \n",
      "1140  2012                      Zappos                No             Large   \n",
      "1141  2013                     Zaxby's               Yes            Medium   \n",
      "1142  2016                 Zazzle Inc.                No             Large   \n",
      "1143  2017       Zest Dental Solutions               Yes             Large   \n",
      "1144  2017                      Zomato                No             Large   \n",
      "\n",
      "     Level of digital intensity                                     Sector  \\\n",
      "0                   Medium-High         Wholesale, retail trade and repair   \n",
      "1                    Low-Medium                    Human health activities   \n",
      "2                          High                   Other service activities   \n",
      "3                    Low-Medium                    Human health activities   \n",
      "4                    Low-Medium                    Human health activities   \n",
      "...                         ...                                        ...   \n",
      "1140                 Low-Medium      Textiles, wearing apparel and leather   \n",
      "1141                        Low  Accommodation and food service activities   \n",
      "1142                 Low-Medium      Textiles, wearing apparel and leather   \n",
      "1143                 Low-Medium                    Human health activities   \n",
      "1144                       High    Advertising and other business services   \n",
      "\n",
      "     Country Cyber security role Cyber security frameworks  \\\n",
      "0     Canada                 Yes                        No   \n",
      "1        USA                  No                        No   \n",
      "2        USA                  No                        No   \n",
      "3        USA                  No                        No   \n",
      "4        USA                  No                        No   \n",
      "...      ...                 ...                       ...   \n",
      "1140     USA                  No                        No   \n",
      "1141     USA                  No                        No   \n",
      "1142     USA                  No                        No   \n",
      "1143     USA                  No                        No   \n",
      "1144     USA                  No                        No   \n",
      "\n",
      "     Education and awareness policy  ... Subsequent fraudulent use of data  \\\n",
      "0                                No  ...                                No   \n",
      "1                                No  ...                                No   \n",
      "2                                No  ...                                No   \n",
      "3                                No  ...                                No   \n",
      "4                                No  ...                                No   \n",
      "...                             ...  ...                               ...   \n",
      "1140                             No  ...                                No   \n",
      "1141                             No  ...                                No   \n",
      "1142                             No  ...                                No   \n",
      "1143                             No  ...                               Yes   \n",
      "1144                             No  ...                               Yes   \n",
      "\n",
      "     Investigation Undertook investigation Litigation by public  \\\n",
      "0               No                      No                   No   \n",
      "1               No                      No                   No   \n",
      "2               No                      No                   No   \n",
      "3              Yes                     Yes                   No   \n",
      "4               No                      No                   No   \n",
      "...            ...                     ...                  ...   \n",
      "1140           Yes                     Yes                  Yes   \n",
      "1141            No                      No                   No   \n",
      "1142            No                      No                   No   \n",
      "1143            No                      No                   No   \n",
      "1144            No                      No                   No   \n",
      "\n",
      "     Penalties/settlement paid or actions imposed  \\\n",
      "0                                              No   \n",
      "1                                              No   \n",
      "2                                              No   \n",
      "3                                             Yes   \n",
      "4                                              No   \n",
      "...                                           ...   \n",
      "1140                                          Yes   \n",
      "1141                                           No   \n",
      "1142                                           No   \n",
      "1143                                           No   \n",
      "1144                                           No   \n",
      "\n",
      "     Imposed penalties or actions on organisation  \\\n",
      "0                                              No   \n",
      "1                                              No   \n",
      "2                                              No   \n",
      "3                                             Yes   \n",
      "4                                              No   \n",
      "...                                           ...   \n",
      "1140                                           No   \n",
      "1141                                           No   \n",
      "1142                                           No   \n",
      "1143                                           No   \n",
      "1144                                           No   \n",
      "\n",
      "     Fines issued by government or relevant body Settlement paid  \\\n",
      "0                                             No              No   \n",
      "1                                             No              No   \n",
      "2                                             No              No   \n",
      "3                                            Yes              No   \n",
      "4                                             No              No   \n",
      "...                                          ...             ...   \n",
      "1140                                          No             Yes   \n",
      "1141                                          No              No   \n",
      "1142                                          No              No   \n",
      "1143                                          No              No   \n",
      "1144                                          No              No   \n",
      "\n",
      "     Effect on share price                                            Summary  \n",
      "0                        ↓                          Unknown attack on website  \n",
      "1                      NaN                                        Ransomware   \n",
      "2                      NaN                                            Unknown  \n",
      "3                      NaN                   Laptop stolen with no encryption  \n",
      "4                      NaN                Vendor had a security vulnerability  \n",
      "...                    ...                                                ...  \n",
      "1140                   NaN                          Unknown attack on website  \n",
      "1141                   NaN                           Malware installed on PoS  \n",
      "1142                   NaN                       Brute force attack on system  \n",
      "1143                   NaN                          Unknown attack on website  \n",
      "1144                   NaN  Access was gained into the system i.e. through...  \n",
      "\n",
      "[1145 rows x 43 columns]\n"
     ]
    }
   ],
   "source": [
    "df = pd.read_excel (r'C:\\Users\\lenovo\\Downloads\\d\\cyberattack.xlsx', sheet_name='dataset')\n",
    "print (df)"
   ]
  },
  {
   "cell_type": "code",
   "execution_count": 3,
   "metadata": {},
   "outputs": [
    {
     "data": {
      "text/html": [
       "<div>\n",
       "<style scoped>\n",
       "    .dataframe tbody tr th:only-of-type {\n",
       "        vertical-align: middle;\n",
       "    }\n",
       "\n",
       "    .dataframe tbody tr th {\n",
       "        vertical-align: top;\n",
       "    }\n",
       "\n",
       "    .dataframe thead th {\n",
       "        text-align: right;\n",
       "    }\n",
       "</style>\n",
       "<table border=\"1\" class=\"dataframe\">\n",
       "  <thead>\n",
       "    <tr style=\"text-align: right;\">\n",
       "      <th></th>\n",
       "      <th>Year</th>\n",
       "      <th>Organisation</th>\n",
       "      <th>Critical Industry</th>\n",
       "      <th>Organisation size</th>\n",
       "      <th>Level of digital intensity</th>\n",
       "      <th>Sector</th>\n",
       "      <th>Country</th>\n",
       "      <th>Cyber security role</th>\n",
       "      <th>Cyber security frameworks</th>\n",
       "      <th>Education and awareness policy</th>\n",
       "      <th>...</th>\n",
       "      <th>Subsequent fraudulent use of data</th>\n",
       "      <th>Investigation</th>\n",
       "      <th>Undertook investigation</th>\n",
       "      <th>Litigation by public</th>\n",
       "      <th>Penalties/settlement paid or actions imposed</th>\n",
       "      <th>Imposed penalties or actions on organisation</th>\n",
       "      <th>Fines issued by government or relevant body</th>\n",
       "      <th>Settlement paid</th>\n",
       "      <th>Effect on share price</th>\n",
       "      <th>Summary</th>\n",
       "    </tr>\n",
       "  </thead>\n",
       "  <tbody>\n",
       "    <tr>\n",
       "      <th>0</th>\n",
       "      <td>2016</td>\n",
       "      <td>1-800-Flowers</td>\n",
       "      <td>No</td>\n",
       "      <td>Large</td>\n",
       "      <td>Medium-High</td>\n",
       "      <td>Wholesale, retail trade and repair</td>\n",
       "      <td>Canada</td>\n",
       "      <td>Yes</td>\n",
       "      <td>No</td>\n",
       "      <td>No</td>\n",
       "      <td>...</td>\n",
       "      <td>No</td>\n",
       "      <td>No</td>\n",
       "      <td>No</td>\n",
       "      <td>No</td>\n",
       "      <td>No</td>\n",
       "      <td>No</td>\n",
       "      <td>No</td>\n",
       "      <td>No</td>\n",
       "      <td>↓</td>\n",
       "      <td>Unknown attack on website</td>\n",
       "    </tr>\n",
       "    <tr>\n",
       "      <th>1</th>\n",
       "      <td>2017</td>\n",
       "      <td>ABCD Pediatrics, P.A.</td>\n",
       "      <td>Yes</td>\n",
       "      <td>Medium</td>\n",
       "      <td>Low-Medium</td>\n",
       "      <td>Human health activities</td>\n",
       "      <td>USA</td>\n",
       "      <td>No</td>\n",
       "      <td>No</td>\n",
       "      <td>No</td>\n",
       "      <td>...</td>\n",
       "      <td>No</td>\n",
       "      <td>No</td>\n",
       "      <td>No</td>\n",
       "      <td>No</td>\n",
       "      <td>No</td>\n",
       "      <td>No</td>\n",
       "      <td>No</td>\n",
       "      <td>No</td>\n",
       "      <td>NaN</td>\n",
       "      <td>Ransomware</td>\n",
       "    </tr>\n",
       "    <tr>\n",
       "      <th>2</th>\n",
       "      <td>2014</td>\n",
       "      <td>ABM Parking Services, Inc.</td>\n",
       "      <td>No</td>\n",
       "      <td>Large</td>\n",
       "      <td>High</td>\n",
       "      <td>Other service activities</td>\n",
       "      <td>USA</td>\n",
       "      <td>No</td>\n",
       "      <td>No</td>\n",
       "      <td>No</td>\n",
       "      <td>...</td>\n",
       "      <td>No</td>\n",
       "      <td>No</td>\n",
       "      <td>No</td>\n",
       "      <td>No</td>\n",
       "      <td>No</td>\n",
       "      <td>No</td>\n",
       "      <td>No</td>\n",
       "      <td>No</td>\n",
       "      <td>NaN</td>\n",
       "      <td>Unknown</td>\n",
       "    </tr>\n",
       "    <tr>\n",
       "      <th>3</th>\n",
       "      <td>2012</td>\n",
       "      <td>Accretive Health</td>\n",
       "      <td>Yes</td>\n",
       "      <td>Small</td>\n",
       "      <td>Low-Medium</td>\n",
       "      <td>Human health activities</td>\n",
       "      <td>USA</td>\n",
       "      <td>No</td>\n",
       "      <td>No</td>\n",
       "      <td>No</td>\n",
       "      <td>...</td>\n",
       "      <td>No</td>\n",
       "      <td>Yes</td>\n",
       "      <td>Yes</td>\n",
       "      <td>No</td>\n",
       "      <td>Yes</td>\n",
       "      <td>Yes</td>\n",
       "      <td>Yes</td>\n",
       "      <td>No</td>\n",
       "      <td>NaN</td>\n",
       "      <td>Laptop stolen with no encryption</td>\n",
       "    </tr>\n",
       "    <tr>\n",
       "      <th>4</th>\n",
       "      <td>2018</td>\n",
       "      <td>AccuDoc Solutions, Inc.</td>\n",
       "      <td>Yes</td>\n",
       "      <td>NaN</td>\n",
       "      <td>Low-Medium</td>\n",
       "      <td>Human health activities</td>\n",
       "      <td>USA</td>\n",
       "      <td>No</td>\n",
       "      <td>No</td>\n",
       "      <td>No</td>\n",
       "      <td>...</td>\n",
       "      <td>No</td>\n",
       "      <td>No</td>\n",
       "      <td>No</td>\n",
       "      <td>No</td>\n",
       "      <td>No</td>\n",
       "      <td>No</td>\n",
       "      <td>No</td>\n",
       "      <td>No</td>\n",
       "      <td>NaN</td>\n",
       "      <td>Vendor had a security vulnerability</td>\n",
       "    </tr>\n",
       "  </tbody>\n",
       "</table>\n",
       "<p>5 rows × 43 columns</p>\n",
       "</div>"
      ],
      "text/plain": [
       "   Year                Organisation Critical Industry Organisation size  \\\n",
       "0  2016               1-800-Flowers                No             Large   \n",
       "1  2017       ABCD Pediatrics, P.A.               Yes            Medium   \n",
       "2  2014  ABM Parking Services, Inc.                No             Large   \n",
       "3  2012            Accretive Health               Yes             Small   \n",
       "4  2018     AccuDoc Solutions, Inc.               Yes               NaN   \n",
       "\n",
       "  Level of digital intensity                              Sector Country  \\\n",
       "0                Medium-High  Wholesale, retail trade and repair  Canada   \n",
       "1                 Low-Medium             Human health activities     USA   \n",
       "2                       High            Other service activities     USA   \n",
       "3                 Low-Medium             Human health activities     USA   \n",
       "4                 Low-Medium             Human health activities     USA   \n",
       "\n",
       "  Cyber security role Cyber security frameworks  \\\n",
       "0                 Yes                        No   \n",
       "1                  No                        No   \n",
       "2                  No                        No   \n",
       "3                  No                        No   \n",
       "4                  No                        No   \n",
       "\n",
       "  Education and awareness policy  ... Subsequent fraudulent use of data  \\\n",
       "0                             No  ...                                No   \n",
       "1                             No  ...                                No   \n",
       "2                             No  ...                                No   \n",
       "3                             No  ...                                No   \n",
       "4                             No  ...                                No   \n",
       "\n",
       "  Investigation Undertook investigation Litigation by public  \\\n",
       "0            No                      No                   No   \n",
       "1            No                      No                   No   \n",
       "2            No                      No                   No   \n",
       "3           Yes                     Yes                   No   \n",
       "4            No                      No                   No   \n",
       "\n",
       "  Penalties/settlement paid or actions imposed  \\\n",
       "0                                           No   \n",
       "1                                           No   \n",
       "2                                           No   \n",
       "3                                          Yes   \n",
       "4                                           No   \n",
       "\n",
       "  Imposed penalties or actions on organisation  \\\n",
       "0                                           No   \n",
       "1                                           No   \n",
       "2                                           No   \n",
       "3                                          Yes   \n",
       "4                                           No   \n",
       "\n",
       "  Fines issued by government or relevant body Settlement paid  \\\n",
       "0                                          No              No   \n",
       "1                                          No              No   \n",
       "2                                          No              No   \n",
       "3                                         Yes              No   \n",
       "4                                          No              No   \n",
       "\n",
       "  Effect on share price                              Summary  \n",
       "0                     ↓            Unknown attack on website  \n",
       "1                   NaN                          Ransomware   \n",
       "2                   NaN                              Unknown  \n",
       "3                   NaN     Laptop stolen with no encryption  \n",
       "4                   NaN  Vendor had a security vulnerability  \n",
       "\n",
       "[5 rows x 43 columns]"
      ]
     },
     "execution_count": 3,
     "metadata": {},
     "output_type": "execute_result"
    }
   ],
   "source": [
    "df.head()"
   ]
  },
  {
   "cell_type": "markdown",
   "metadata": {},
   "source": [
    "Exploring the data set."
   ]
  },
  {
   "cell_type": "code",
   "execution_count": 4,
   "metadata": {},
   "outputs": [
    {
     "name": "stdout",
     "output_type": "stream",
     "text": [
      "<class 'pandas.core.frame.DataFrame'>\n",
      "RangeIndex: 1145 entries, 0 to 1144\n",
      "Data columns (total 43 columns):\n",
      " #   Column                                                           Non-Null Count  Dtype \n",
      "---  ------                                                           --------------  ----- \n",
      " 0   Year                                                             1145 non-null   int64 \n",
      " 1   Organisation                                                     1145 non-null   object\n",
      " 2   Critical Industry                                                1145 non-null   object\n",
      " 3   Organisation size                                                940 non-null    object\n",
      " 4   Level of digital intensity                                       1145 non-null   object\n",
      " 5   Sector                                                           1145 non-null   object\n",
      " 6   Country                                                          1145 non-null   object\n",
      " 7   Cyber security role                                              1145 non-null   object\n",
      " 8   Cyber security frameworks                                        1145 non-null   object\n",
      " 9   Education and awareness policy                                   1145 non-null   object\n",
      " 10  Policy                                                           1128 non-null   object\n",
      " 11  Prevention, Detection and Recovery                               1145 non-null   object\n",
      " 12  Improper network segmentation                                    628 non-null    object\n",
      " 13  Inappropriate remote access                                      702 non-null    object\n",
      " 14  Absence of encryption                                            774 non-null    object\n",
      " 15  Detector                                                         1126 non-null   object\n",
      " 16  Restructuring after attack                                       1005 non-null   object\n",
      " 17  Bribe/ransom paid                                                1145 non-null   object\n",
      " 18  Free identity or credit theft monitoring                         1027 non-null   object\n",
      " 19  Additional disclosure of information                             994 non-null    object\n",
      " 20  Number of users affected                                         1145 non-null   object\n",
      " 21  Overall nature of attack                                         809 non-null    object\n",
      " 22  Attack type                                                      747 non-null    object\n",
      " 23  Attacker                                                         1145 non-null   object\n",
      " 24  Attack vector                                                    748 non-null    object\n",
      " 25  Impact on data                                                   1145 non-null   object\n",
      " 26  Aspect of Confidentiality-Integrity-Availability triad affected  1145 non-null   object\n",
      " 27  Individual(s) name(s) leaked/exposed                             1138 non-null   object\n",
      " 28  Address(es) leaked/exposed                                       1134 non-null   object\n",
      " 29  Other personally identifiable information (PII) leaked/exposed   1134 non-null   object\n",
      " 30  Track 1 - Credit card details leaked/exposed                     1128 non-null   object\n",
      " 31  Track 2 - Credit card details leaked/exposed                     850 non-null    object\n",
      " 32  Social security number/tax number leaked/exposed                 1134 non-null   object\n",
      " 33  Subsequent fraudulent use of data                                1143 non-null   object\n",
      " 34  Investigation                                                    1145 non-null   object\n",
      " 35  Undertook investigation                                          1145 non-null   object\n",
      " 36  Litigation by public                                             1145 non-null   object\n",
      " 37  Penalties/settlement paid or actions imposed                     1145 non-null   object\n",
      " 38  Imposed penalties or actions on organisation                     1145 non-null   object\n",
      " 39  Fines issued by government or relevant body                      1145 non-null   object\n",
      " 40  Settlement paid                                                  1145 non-null   object\n",
      " 41  Effect on share price                                            113 non-null    object\n",
      " 42  Summary                                                          1145 non-null   object\n",
      "dtypes: int64(1), object(42)\n",
      "memory usage: 384.8+ KB\n"
     ]
    }
   ],
   "source": [
    "df.info()"
   ]
  },
  {
   "cell_type": "markdown",
   "metadata": {},
   "source": [
    "Checking for null values in the data set."
   ]
  },
  {
   "cell_type": "code",
   "execution_count": 5,
   "metadata": {},
   "outputs": [
    {
     "data": {
      "text/plain": [
       "Year                                                                  0\n",
       "Organisation                                                          0\n",
       "Critical Industry                                                     0\n",
       "Organisation size                                                   205\n",
       "Level of digital intensity                                            0\n",
       "Sector                                                                0\n",
       "Country                                                               0\n",
       "Cyber security role                                                   0\n",
       "Cyber security frameworks                                             0\n",
       "Education and awareness policy                                        0\n",
       "Policy                                                               17\n",
       "Prevention, Detection and Recovery                                    0\n",
       "Improper network segmentation                                       517\n",
       "Inappropriate remote access                                         443\n",
       "Absence of encryption                                               371\n",
       "Detector                                                             19\n",
       "Restructuring after attack                                          140\n",
       "Bribe/ransom paid                                                     0\n",
       "Free identity or credit theft monitoring                            118\n",
       "Additional disclosure of information                                151\n",
       "Number of users affected                                              0\n",
       "Overall nature of attack                                            336\n",
       "Attack type                                                         398\n",
       "Attacker                                                              0\n",
       "Attack vector                                                       397\n",
       "Impact on data                                                        0\n",
       "Aspect of Confidentiality-Integrity-Availability triad affected       0\n",
       "Individual(s) name(s) leaked/exposed                                  7\n",
       "Address(es) leaked/exposed                                           11\n",
       "Other personally identifiable information (PII) leaked/exposed       11\n",
       "Track 1 - Credit card details leaked/exposed                         17\n",
       "Track 2 - Credit card details leaked/exposed                        295\n",
       "Social security number/tax number leaked/exposed                     11\n",
       "Subsequent fraudulent use of data                                     2\n",
       "Investigation                                                         0\n",
       "Undertook investigation                                               0\n",
       "Litigation by public                                                  0\n",
       "Penalties/settlement paid or actions imposed                          0\n",
       "Imposed penalties or actions on organisation                          0\n",
       "Fines issued by government or relevant body                           0\n",
       "Settlement paid                                                       0\n",
       "Effect on share price                                              1032\n",
       "Summary                                                               0\n",
       "dtype: int64"
      ]
     },
     "execution_count": 5,
     "metadata": {},
     "output_type": "execute_result"
    }
   ],
   "source": [
    "df.isnull().sum()"
   ]
  },
  {
   "cell_type": "markdown",
   "metadata": {},
   "source": [
    "as we can see from above there are lots of null value present in the data set we first need to replace the null value with respective mode of the column."
   ]
  },
  {
   "cell_type": "markdown",
   "metadata": {},
   "source": [
    "# Data cleaning"
   ]
  },
  {
   "cell_type": "code",
   "execution_count": 6,
   "metadata": {},
   "outputs": [
    {
     "data": {
      "text/plain": [
       "No     656\n",
       "Yes     46\n",
       "Name: Inappropriate remote access, dtype: int64"
      ]
     },
     "execution_count": 6,
     "metadata": {},
     "output_type": "execute_result"
    }
   ],
   "source": [
    "df[\"Inappropriate remote access\"].value_counts()"
   ]
  },
  {
   "cell_type": "code",
   "execution_count": 7,
   "metadata": {},
   "outputs": [],
   "source": [
    "df[\"Organisation size\"].fillna(\"Unknown\",inplace=True)"
   ]
  },
  {
   "cell_type": "code",
   "execution_count": 8,
   "metadata": {},
   "outputs": [
    {
     "data": {
      "text/plain": [
       "Yes    1123\n",
       "No        5\n",
       "Name: Policy, dtype: int64"
      ]
     },
     "execution_count": 8,
     "metadata": {},
     "output_type": "execute_result"
    }
   ],
   "source": [
    "df[\"Policy\"].value_counts()"
   ]
  },
  {
   "cell_type": "code",
   "execution_count": 9,
   "metadata": {},
   "outputs": [],
   "source": [
    "df[\"Policy\"].fillna(\"Yes\",inplace=True)"
   ]
  },
  {
   "cell_type": "code",
   "execution_count": 10,
   "metadata": {},
   "outputs": [
    {
     "data": {
      "text/plain": [
       "No     335\n",
       "Yes    293\n",
       "Name: Improper network segmentation, dtype: int64"
      ]
     },
     "execution_count": 10,
     "metadata": {},
     "output_type": "execute_result"
    }
   ],
   "source": [
    "df[\"Improper network segmentation\"].value_counts()"
   ]
  },
  {
   "cell_type": "code",
   "execution_count": 11,
   "metadata": {},
   "outputs": [],
   "source": [
    "df[\"Improper network segmentation\"].fillna(\"Unknown\",inplace=True)"
   ]
  },
  {
   "cell_type": "code",
   "execution_count": 12,
   "metadata": {},
   "outputs": [
    {
     "data": {
      "text/plain": [
       "No     656\n",
       "Yes     46\n",
       "Name: Inappropriate remote access, dtype: int64"
      ]
     },
     "execution_count": 12,
     "metadata": {},
     "output_type": "execute_result"
    }
   ],
   "source": [
    "df[\"Inappropriate remote access\"].value_counts()"
   ]
  },
  {
   "cell_type": "code",
   "execution_count": 13,
   "metadata": {},
   "outputs": [],
   "source": [
    "df[\"Inappropriate remote access\"].fillna(\"No\",inplace=True)"
   ]
  },
  {
   "cell_type": "code",
   "execution_count": 14,
   "metadata": {},
   "outputs": [
    {
     "data": {
      "text/plain": [
       "Yes    685\n",
       "No      89\n",
       "Name: Absence of encryption, dtype: int64"
      ]
     },
     "execution_count": 14,
     "metadata": {},
     "output_type": "execute_result"
    }
   ],
   "source": [
    "df[\"Absence of encryption\"].value_counts()"
   ]
  },
  {
   "cell_type": "code",
   "execution_count": 15,
   "metadata": {},
   "outputs": [],
   "source": [
    "df[\"Absence of encryption\"].fillna(\"Yes\",inplace=True)"
   ]
  },
  {
   "cell_type": "code",
   "execution_count": 16,
   "metadata": {},
   "outputs": [
    {
     "data": {
      "text/plain": [
       "Organisation        1023\n",
       "Public                48\n",
       "Credit card/bank      29\n",
       "Federal Agency        26\n",
       "Name: Detector, dtype: int64"
      ]
     },
     "execution_count": 16,
     "metadata": {},
     "output_type": "execute_result"
    }
   ],
   "source": [
    "df[\"Detector\"].value_counts()"
   ]
  },
  {
   "cell_type": "code",
   "execution_count": 17,
   "metadata": {},
   "outputs": [],
   "source": [
    "df[\"Detector\"].fillna(\"Organisation \",inplace=True)"
   ]
  },
  {
   "cell_type": "code",
   "execution_count": 18,
   "metadata": {},
   "outputs": [
    {
     "data": {
      "text/plain": [
       "Yes    790\n",
       "No     215\n",
       "Name: Restructuring after attack, dtype: int64"
      ]
     },
     "execution_count": 18,
     "metadata": {},
     "output_type": "execute_result"
    }
   ],
   "source": [
    "df[\"Restructuring after attack\"].value_counts()"
   ]
  },
  {
   "cell_type": "code",
   "execution_count": 19,
   "metadata": {},
   "outputs": [],
   "source": [
    "df[\"Restructuring after attack\"].fillna(\"Yes\",inplace=True)"
   ]
  },
  {
   "cell_type": "code",
   "execution_count": 20,
   "metadata": {},
   "outputs": [
    {
     "data": {
      "text/plain": [
       "No     561\n",
       "Yes    466\n",
       "Name: Free identity or credit theft monitoring, dtype: int64"
      ]
     },
     "execution_count": 20,
     "metadata": {},
     "output_type": "execute_result"
    }
   ],
   "source": [
    "df[\"Free identity or credit theft monitoring\"].value_counts()"
   ]
  },
  {
   "cell_type": "code",
   "execution_count": 21,
   "metadata": {},
   "outputs": [],
   "source": [
    "df[\"Free identity or credit theft monitoring\"].fillna(\"No\",inplace=True)"
   ]
  },
  {
   "cell_type": "code",
   "execution_count": 22,
   "metadata": {},
   "outputs": [
    {
     "data": {
      "text/plain": [
       "Yes    571\n",
       "No     423\n",
       "Name: Additional disclosure of information, dtype: int64"
      ]
     },
     "execution_count": 22,
     "metadata": {},
     "output_type": "execute_result"
    }
   ],
   "source": [
    "df[\"Additional disclosure of information\"].value_counts()"
   ]
  },
  {
   "cell_type": "code",
   "execution_count": 23,
   "metadata": {},
   "outputs": [],
   "source": [
    "df[\"Additional disclosure of information\"].fillna(\"Yes\",inplace=True)"
   ]
  },
  {
   "cell_type": "code",
   "execution_count": 24,
   "metadata": {},
   "outputs": [
    {
     "data": {
      "text/plain": [
       "Type 1    259\n",
       "Type 2    239\n",
       "Type 3    214\n",
       "Type 4     74\n",
       "Type 5     23\n",
       "Name: Overall nature of attack, dtype: int64"
      ]
     },
     "execution_count": 24,
     "metadata": {},
     "output_type": "execute_result"
    }
   ],
   "source": [
    "df[\"Overall nature of attack\"].value_counts()"
   ]
  },
  {
   "cell_type": "code",
   "execution_count": 25,
   "metadata": {},
   "outputs": [],
   "source": [
    "df[\"Overall nature of attack\"].fillna(\"Type 1\",inplace=True)"
   ]
  },
  {
   "cell_type": "code",
   "execution_count": 26,
   "metadata": {},
   "outputs": [
    {
     "data": {
      "text/plain": [
       "0"
      ]
     },
     "execution_count": 26,
     "metadata": {},
     "output_type": "execute_result"
    }
   ],
   "source": [
    "df[\"Overall nature of attack\"].isnull().sum()"
   ]
  },
  {
   "cell_type": "code",
   "execution_count": 27,
   "metadata": {},
   "outputs": [],
   "source": [
    "df.drop(\"Effect on share price\", axis=1,inplace=True)"
   ]
  },
  {
   "cell_type": "code",
   "execution_count": 28,
   "metadata": {},
   "outputs": [
    {
     "data": {
      "text/plain": [
       "Installed malware      259\n",
       "Physical Theft         214\n",
       "Misuse of resources    200\n",
       "Web compromise          74\n",
       "Name: Attack type, dtype: int64"
      ]
     },
     "execution_count": 28,
     "metadata": {},
     "output_type": "execute_result"
    }
   ],
   "source": [
    "df[\"Attack type\"].value_counts()"
   ]
  },
  {
   "cell_type": "code",
   "execution_count": 29,
   "metadata": {},
   "outputs": [],
   "source": [
    "df[\"Attack type\"].fillna(\"Installed malware\",inplace=True)"
   ]
  },
  {
   "cell_type": "code",
   "execution_count": 30,
   "metadata": {},
   "outputs": [
    {
     "name": "stdout",
     "output_type": "stream",
     "text": [
      "<class 'pandas.core.frame.DataFrame'>\n",
      "RangeIndex: 1145 entries, 0 to 1144\n",
      "Data columns (total 42 columns):\n",
      " #   Column                                                           Non-Null Count  Dtype \n",
      "---  ------                                                           --------------  ----- \n",
      " 0   Year                                                             1145 non-null   int64 \n",
      " 1   Organisation                                                     1145 non-null   object\n",
      " 2   Critical Industry                                                1145 non-null   object\n",
      " 3   Organisation size                                                1145 non-null   object\n",
      " 4   Level of digital intensity                                       1145 non-null   object\n",
      " 5   Sector                                                           1145 non-null   object\n",
      " 6   Country                                                          1145 non-null   object\n",
      " 7   Cyber security role                                              1145 non-null   object\n",
      " 8   Cyber security frameworks                                        1145 non-null   object\n",
      " 9   Education and awareness policy                                   1145 non-null   object\n",
      " 10  Policy                                                           1145 non-null   object\n",
      " 11  Prevention, Detection and Recovery                               1145 non-null   object\n",
      " 12  Improper network segmentation                                    1145 non-null   object\n",
      " 13  Inappropriate remote access                                      1145 non-null   object\n",
      " 14  Absence of encryption                                            1145 non-null   object\n",
      " 15  Detector                                                         1145 non-null   object\n",
      " 16  Restructuring after attack                                       1145 non-null   object\n",
      " 17  Bribe/ransom paid                                                1145 non-null   object\n",
      " 18  Free identity or credit theft monitoring                         1145 non-null   object\n",
      " 19  Additional disclosure of information                             1145 non-null   object\n",
      " 20  Number of users affected                                         1145 non-null   object\n",
      " 21  Overall nature of attack                                         1145 non-null   object\n",
      " 22  Attack type                                                      1145 non-null   object\n",
      " 23  Attacker                                                         1145 non-null   object\n",
      " 24  Attack vector                                                    748 non-null    object\n",
      " 25  Impact on data                                                   1145 non-null   object\n",
      " 26  Aspect of Confidentiality-Integrity-Availability triad affected  1145 non-null   object\n",
      " 27  Individual(s) name(s) leaked/exposed                             1138 non-null   object\n",
      " 28  Address(es) leaked/exposed                                       1134 non-null   object\n",
      " 29  Other personally identifiable information (PII) leaked/exposed   1134 non-null   object\n",
      " 30  Track 1 - Credit card details leaked/exposed                     1128 non-null   object\n",
      " 31  Track 2 - Credit card details leaked/exposed                     850 non-null    object\n",
      " 32  Social security number/tax number leaked/exposed                 1134 non-null   object\n",
      " 33  Subsequent fraudulent use of data                                1143 non-null   object\n",
      " 34  Investigation                                                    1145 non-null   object\n",
      " 35  Undertook investigation                                          1145 non-null   object\n",
      " 36  Litigation by public                                             1145 non-null   object\n",
      " 37  Penalties/settlement paid or actions imposed                     1145 non-null   object\n",
      " 38  Imposed penalties or actions on organisation                     1145 non-null   object\n",
      " 39  Fines issued by government or relevant body                      1145 non-null   object\n",
      " 40  Settlement paid                                                  1145 non-null   object\n",
      " 41  Summary                                                          1145 non-null   object\n",
      "dtypes: int64(1), object(41)\n",
      "memory usage: 375.8+ KB\n"
     ]
    }
   ],
   "source": [
    "df.info()"
   ]
  },
  {
   "cell_type": "code",
   "execution_count": 31,
   "metadata": {},
   "outputs": [
    {
     "data": {
      "text/plain": [
       "Physical device                           204\n",
       "Unknown network attack                    163\n",
       "Social engineering                        120\n",
       "Vendor vulnerability                       99\n",
       "Insufficient input validation              49\n",
       "Unknown website/web application attack     49\n",
       "Insufficient authentication validation     28\n",
       "Inappropriate use of privilege             22\n",
       "Unknown device attack                      14\n",
       "Name: Attack vector, dtype: int64"
      ]
     },
     "execution_count": 31,
     "metadata": {},
     "output_type": "execute_result"
    }
   ],
   "source": [
    "df[\"Attack vector\"].value_counts()"
   ]
  },
  {
   "cell_type": "code",
   "execution_count": 32,
   "metadata": {},
   "outputs": [
    {
     "data": {
      "text/plain": [
       "397"
      ]
     },
     "execution_count": 32,
     "metadata": {},
     "output_type": "execute_result"
    }
   ],
   "source": [
    "df[\"Attack vector\"].isnull().sum()"
   ]
  },
  {
   "cell_type": "code",
   "execution_count": 33,
   "metadata": {},
   "outputs": [],
   "source": [
    "df[\"Attack vector\"].fillna(\"Physical device\",inplace=True)"
   ]
  },
  {
   "cell_type": "code",
   "execution_count": 34,
   "metadata": {},
   "outputs": [],
   "source": [
    "df.drop(\"Track 2 - Credit card details leaked/exposed\",axis=1,inplace=True)"
   ]
  },
  {
   "cell_type": "code",
   "execution_count": 35,
   "metadata": {},
   "outputs": [
    {
     "data": {
      "text/plain": [
       "Yes    1118\n",
       "No       20\n",
       "Name: Individual(s) name(s) leaked/exposed, dtype: int64"
      ]
     },
     "execution_count": 35,
     "metadata": {},
     "output_type": "execute_result"
    }
   ],
   "source": [
    "df[\"Individual(s) name(s) leaked/exposed\"].value_counts()"
   ]
  },
  {
   "cell_type": "code",
   "execution_count": 36,
   "metadata": {},
   "outputs": [],
   "source": [
    "df[\"Individual(s) name(s) leaked/exposed\"].fillna(\"Yes\",inplace=True)"
   ]
  },
  {
   "cell_type": "code",
   "execution_count": 37,
   "metadata": {},
   "outputs": [
    {
     "data": {
      "text/plain": [
       "No     677\n",
       "Yes    457\n",
       "Name: Address(es) leaked/exposed, dtype: int64"
      ]
     },
     "execution_count": 37,
     "metadata": {},
     "output_type": "execute_result"
    }
   ],
   "source": [
    "df[\"Address(es) leaked/exposed\"].value_counts()"
   ]
  },
  {
   "cell_type": "code",
   "execution_count": 38,
   "metadata": {},
   "outputs": [],
   "source": [
    "df[\"Address(es) leaked/exposed\"].fillna(\"No\",inplace=True)"
   ]
  },
  {
   "cell_type": "code",
   "execution_count": 39,
   "metadata": {},
   "outputs": [
    {
     "data": {
      "text/plain": [
       "Yes    943\n",
       "No     191\n",
       "Name: Other personally identifiable information (PII) leaked/exposed, dtype: int64"
      ]
     },
     "execution_count": 39,
     "metadata": {},
     "output_type": "execute_result"
    }
   ],
   "source": [
    "df[\"Other personally identifiable information (PII) leaked/exposed\"].value_counts()"
   ]
  },
  {
   "cell_type": "code",
   "execution_count": 40,
   "metadata": {},
   "outputs": [],
   "source": [
    "df[\"Other personally identifiable information (PII) leaked/exposed\"].fillna(\"Yes\",inplace=True)"
   ]
  },
  {
   "cell_type": "code",
   "execution_count": 41,
   "metadata": {},
   "outputs": [
    {
     "data": {
      "text/plain": [
       "No     825\n",
       "Yes    303\n",
       "Name: Track 1 - Credit card details leaked/exposed, dtype: int64"
      ]
     },
     "execution_count": 41,
     "metadata": {},
     "output_type": "execute_result"
    }
   ],
   "source": [
    "df[\"Track 1 - Credit card details leaked/exposed\"].value_counts()"
   ]
  },
  {
   "cell_type": "code",
   "execution_count": 42,
   "metadata": {},
   "outputs": [],
   "source": [
    "df[\"Track 1 - Credit card details leaked/exposed\"].fillna(\"No\",inplace=True)"
   ]
  },
  {
   "cell_type": "code",
   "execution_count": 43,
   "metadata": {},
   "outputs": [
    {
     "data": {
      "text/plain": [
       "Yes    668\n",
       "No     466\n",
       "Name: Social security number/tax number leaked/exposed, dtype: int64"
      ]
     },
     "execution_count": 43,
     "metadata": {},
     "output_type": "execute_result"
    }
   ],
   "source": [
    "df[\"Social security number/tax number leaked/exposed\"].value_counts()"
   ]
  },
  {
   "cell_type": "code",
   "execution_count": 44,
   "metadata": {},
   "outputs": [],
   "source": [
    "df[\"Social security number/tax number leaked/exposed\"].fillna(\"Yes\",inplace=True)"
   ]
  },
  {
   "cell_type": "code",
   "execution_count": 45,
   "metadata": {},
   "outputs": [
    {
     "data": {
      "text/plain": [
       "No     985\n",
       "Yes    158\n",
       "Name: Subsequent fraudulent use of data, dtype: int64"
      ]
     },
     "execution_count": 45,
     "metadata": {},
     "output_type": "execute_result"
    }
   ],
   "source": [
    "df[\"Subsequent fraudulent use of data\"].value_counts()"
   ]
  },
  {
   "cell_type": "code",
   "execution_count": 46,
   "metadata": {},
   "outputs": [],
   "source": [
    "df[\"Subsequent fraudulent use of data\"].fillna(\"No\",inplace=True)"
   ]
  },
  {
   "cell_type": "markdown",
   "metadata": {},
   "source": [
    "making a new data frame after cleaning the data set"
   ]
  },
  {
   "cell_type": "code",
   "execution_count": 47,
   "metadata": {},
   "outputs": [],
   "source": [
    "df_new= df  # clean data frame"
   ]
  },
  {
   "cell_type": "code",
   "execution_count": 48,
   "metadata": {},
   "outputs": [
    {
     "name": "stdout",
     "output_type": "stream",
     "text": [
      "<class 'pandas.core.frame.DataFrame'>\n",
      "RangeIndex: 1145 entries, 0 to 1144\n",
      "Data columns (total 41 columns):\n",
      " #   Column                                                           Non-Null Count  Dtype \n",
      "---  ------                                                           --------------  ----- \n",
      " 0   Year                                                             1145 non-null   int64 \n",
      " 1   Organisation                                                     1145 non-null   object\n",
      " 2   Critical Industry                                                1145 non-null   object\n",
      " 3   Organisation size                                                1145 non-null   object\n",
      " 4   Level of digital intensity                                       1145 non-null   object\n",
      " 5   Sector                                                           1145 non-null   object\n",
      " 6   Country                                                          1145 non-null   object\n",
      " 7   Cyber security role                                              1145 non-null   object\n",
      " 8   Cyber security frameworks                                        1145 non-null   object\n",
      " 9   Education and awareness policy                                   1145 non-null   object\n",
      " 10  Policy                                                           1145 non-null   object\n",
      " 11  Prevention, Detection and Recovery                               1145 non-null   object\n",
      " 12  Improper network segmentation                                    1145 non-null   object\n",
      " 13  Inappropriate remote access                                      1145 non-null   object\n",
      " 14  Absence of encryption                                            1145 non-null   object\n",
      " 15  Detector                                                         1145 non-null   object\n",
      " 16  Restructuring after attack                                       1145 non-null   object\n",
      " 17  Bribe/ransom paid                                                1145 non-null   object\n",
      " 18  Free identity or credit theft monitoring                         1145 non-null   object\n",
      " 19  Additional disclosure of information                             1145 non-null   object\n",
      " 20  Number of users affected                                         1145 non-null   object\n",
      " 21  Overall nature of attack                                         1145 non-null   object\n",
      " 22  Attack type                                                      1145 non-null   object\n",
      " 23  Attacker                                                         1145 non-null   object\n",
      " 24  Attack vector                                                    1145 non-null   object\n",
      " 25  Impact on data                                                   1145 non-null   object\n",
      " 26  Aspect of Confidentiality-Integrity-Availability triad affected  1145 non-null   object\n",
      " 27  Individual(s) name(s) leaked/exposed                             1145 non-null   object\n",
      " 28  Address(es) leaked/exposed                                       1145 non-null   object\n",
      " 29  Other personally identifiable information (PII) leaked/exposed   1145 non-null   object\n",
      " 30  Track 1 - Credit card details leaked/exposed                     1145 non-null   object\n",
      " 31  Social security number/tax number leaked/exposed                 1145 non-null   object\n",
      " 32  Subsequent fraudulent use of data                                1145 non-null   object\n",
      " 33  Investigation                                                    1145 non-null   object\n",
      " 34  Undertook investigation                                          1145 non-null   object\n",
      " 35  Litigation by public                                             1145 non-null   object\n",
      " 36  Penalties/settlement paid or actions imposed                     1145 non-null   object\n",
      " 37  Imposed penalties or actions on organisation                     1145 non-null   object\n",
      " 38  Fines issued by government or relevant body                      1145 non-null   object\n",
      " 39  Settlement paid                                                  1145 non-null   object\n",
      " 40  Summary                                                          1145 non-null   object\n",
      "dtypes: int64(1), object(40)\n",
      "memory usage: 366.9+ KB\n"
     ]
    }
   ],
   "source": [
    "df_new.info()"
   ]
  },
  {
   "cell_type": "code",
   "execution_count": 97,
   "metadata": {},
   "outputs": [
    {
     "data": {
      "image/png": "[encoded data removed]",
      "text/plain": [
       "<Figure size 1296x432 with 1 Axes>"
      ]
     },
     "metadata": {
      "needs_background": "light"
     },
     "output_type": "display_data"
    }
   ],
   "source": [
    "plt.figure(figsize=(18,6))\n",
    "sns.barplot(x=df['Attack type'].value_counts().index,y=df['Attack type'].value_counts())\n",
    "plt.xlabel('Attack Category')\n",
    "plt.ylabel('Count')\n",
    "plt.title('Number of attacks per Attack caterogy')\n",
    "plt.grid(True)"
   ]
  },
  {
   "cell_type": "code",
   "execution_count": 103,
   "metadata": {},
   "outputs": [
    {
     "data": {
      "image/png": "[encoded data removed]",
      "text/plain": [
       "<Figure size 720x288 with 1 Axes>"
      ]
     },
     "metadata": {
      "needs_background": "light"
     },
     "output_type": "display_data"
    }
   ],
   "source": [
    "plt.figure(figsize=(10,4))\n",
    "sns.barplot(x=df['Attacker'].value_counts().index,y=df['Attacker'].value_counts())\n",
    "plt.xlabel('Attack Category')\n",
    "plt.ylabel('Count')\n",
    "plt.title('Type of Attacker')\n",
    "plt.grid(True)"
   ]
  },
  {
   "cell_type": "code",
   "execution_count": 93,
   "metadata": {},
   "outputs": [
    {
     "data": {
      "image/png": "[encoded data removed]",
      "text/plain": [
       "<Figure size 1296x432 with 1 Axes>"
      ]
     },
     "metadata": {
      "needs_background": "light"
     },
     "output_type": "display_data"
    }
   ],
   "source": [
    "plt.figure(figsize=(18,6))\n",
    "sns.barplot(x=df['Attack vector'].value_counts().index,y=df['Attack vector'].value_counts())\n",
    "plt.xlabel('Attack Vector')\n",
    "plt.ylabel('Count')\n",
    "plt.title('Number of attacks per Attack caterogy')\n",
    "plt.grid(True)"
   ]
  },
  {
   "cell_type": "code",
   "execution_count": 92,
   "metadata": {},
   "outputs": [
    {
     "data": {
      "image/png": "[encoded data removed]",
      "text/plain": [
       "<Figure size 1296x432 with 1 Axes>"
      ]
     },
     "metadata": {
      "needs_background": "light"
     },
     "output_type": "display_data"
    }
   ],
   "source": [
    "plt.figure(figsize=(18,6))\n",
    "sns.barplot(x=df['Overall nature of attack'].value_counts().index,y=df['Overall nature of attack'].value_counts())\n",
    "plt.xlabel('Overall nature of attack')\n",
    "plt.ylabel('Count')\n",
    "plt.title('Number of attacks per Attack caterogy')\n",
    "plt.grid(True)"
   ]
  },
  {
   "cell_type": "code",
   "execution_count": 101,
   "metadata": {},
   "outputs": [
    {
     "data": {
      "image/png": "[encoded data removed]",
      "text/plain": [
       "<Figure size 1296x432 with 1 Axes>"
      ]
     },
     "metadata": {
      "needs_background": "light"
     },
     "output_type": "display_data"
    }
   ],
   "source": [
    "plt.figure(figsize=(18,6))\n",
    "sns.barplot(x=df['Impact on data'].value_counts().index,y=df['Impact on data'].value_counts())\n",
    "plt.xlabel('impact on data')\n",
    "plt.ylabel('Count')\n",
    "plt.title('Impact on data')\n",
    "plt.grid(True)"
   ]
  },
  {
   "cell_type": "code",
   "execution_count": 53,
   "metadata": {},
   "outputs": [],
   "source": [
    "df.drop(\"Year\",axis=1,inplace=True) # droping year column as it would not help in predecting"
   ]
  },
  {
   "cell_type": "code",
   "execution_count": 54,
   "metadata": {},
   "outputs": [
    {
     "data": {
      "text/plain": [
       "Physical device                           601\n",
       "Unknown network attack                    163\n",
       "Social engineering                        120\n",
       "Vendor vulnerability                       99\n",
       "Insufficient input validation              49\n",
       "Unknown website/web application attack     49\n",
       "Insufficient authentication validation     28\n",
       "Inappropriate use of privilege             22\n",
       "Unknown device attack                      14\n",
       "Name: Attack vector, dtype: int64"
      ]
     },
     "execution_count": 54,
     "metadata": {},
     "output_type": "execute_result"
    }
   ],
   "source": [
    "df[\"Attack vector\"].value_counts()"
   ]
  },
  {
   "cell_type": "code",
   "execution_count": 55,
   "metadata": {},
   "outputs": [
    {
     "name": "stdout",
     "output_type": "stream",
     "text": [
      "<class 'pandas.core.frame.DataFrame'>\n",
      "RangeIndex: 1145 entries, 0 to 1144\n",
      "Data columns (total 40 columns):\n",
      " #   Column                                                           Non-Null Count  Dtype \n",
      "---  ------                                                           --------------  ----- \n",
      " 0   Organisation                                                     1145 non-null   object\n",
      " 1   Critical Industry                                                1145 non-null   object\n",
      " 2   Organisation size                                                1145 non-null   object\n",
      " 3   Level of digital intensity                                       1145 non-null   object\n",
      " 4   Sector                                                           1145 non-null   object\n",
      " 5   Country                                                          1145 non-null   object\n",
      " 6   Cyber security role                                              1145 non-null   object\n",
      " 7   Cyber security frameworks                                        1145 non-null   object\n",
      " 8   Education and awareness policy                                   1145 non-null   object\n",
      " 9   Policy                                                           1145 non-null   object\n",
      " 10  Prevention, Detection and Recovery                               1145 non-null   object\n",
      " 11  Improper network segmentation                                    1145 non-null   object\n",
      " 12  Inappropriate remote access                                      1145 non-null   object\n",
      " 13  Absence of encryption                                            1145 non-null   object\n",
      " 14  Detector                                                         1145 non-null   object\n",
      " 15  Restructuring after attack                                       1145 non-null   object\n",
      " 16  Bribe/ransom paid                                                1145 non-null   object\n",
      " 17  Free identity or credit theft monitoring                         1145 non-null   object\n",
      " 18  Additional disclosure of information                             1145 non-null   object\n",
      " 19  Number of users affected                                         1145 non-null   object\n",
      " 20  Overall nature of attack                                         1145 non-null   object\n",
      " 21  Attack type                                                      1145 non-null   object\n",
      " 22  Attacker                                                         1145 non-null   object\n",
      " 23  Attack vector                                                    1145 non-null   object\n",
      " 24  Impact on data                                                   1145 non-null   object\n",
      " 25  Aspect of Confidentiality-Integrity-Availability triad affected  1145 non-null   object\n",
      " 26  Individual(s) name(s) leaked/exposed                             1145 non-null   object\n",
      " 27  Address(es) leaked/exposed                                       1145 non-null   object\n",
      " 28  Other personally identifiable information (PII) leaked/exposed   1145 non-null   object\n",
      " 29  Track 1 - Credit card details leaked/exposed                     1145 non-null   object\n",
      " 30  Social security number/tax number leaked/exposed                 1145 non-null   object\n",
      " 31  Subsequent fraudulent use of data                                1145 non-null   object\n",
      " 32  Investigation                                                    1145 non-null   object\n",
      " 33  Undertook investigation                                          1145 non-null   object\n",
      " 34  Litigation by public                                             1145 non-null   object\n",
      " 35  Penalties/settlement paid or actions imposed                     1145 non-null   object\n",
      " 36  Imposed penalties or actions on organisation                     1145 non-null   object\n",
      " 37  Fines issued by government or relevant body                      1145 non-null   object\n",
      " 38  Settlement paid                                                  1145 non-null   object\n",
      " 39  Summary                                                          1145 non-null   object\n",
      "dtypes: object(40)\n",
      "memory usage: 357.9+ KB\n"
     ]
    }
   ],
   "source": [
    "df.info()"
   ]
  },
  {
   "cell_type": "code",
   "execution_count": 56,
   "metadata": {},
   "outputs": [],
   "source": [
    "df1=df"
   ]
  },
  {
   "cell_type": "code",
   "execution_count": 57,
   "metadata": {},
   "outputs": [],
   "source": [
    "df1.drop(\"Summary\",axis=1,inplace=True) # droping summary because it contain text "
   ]
  },
  {
   "cell_type": "code",
   "execution_count": 59,
   "metadata": {
    "scrolled": true
   },
   "outputs": [
    {
     "name": "stdout",
     "output_type": "stream",
     "text": [
      "<class 'pandas.core.frame.DataFrame'>\n",
      "RangeIndex: 1145 entries, 0 to 1144\n",
      "Data columns (total 39 columns):\n",
      " #   Column                                                           Non-Null Count  Dtype \n",
      "---  ------                                                           --------------  ----- \n",
      " 0   Organisation                                                     1145 non-null   object\n",
      " 1   Critical Industry                                                1145 non-null   object\n",
      " 2   Organisation size                                                1145 non-null   object\n",
      " 3   Level of digital intensity                                       1145 non-null   object\n",
      " 4   Sector                                                           1145 non-null   object\n",
      " 5   Country                                                          1145 non-null   object\n",
      " 6   Cyber security role                                              1145 non-null   object\n",
      " 7   Cyber security frameworks                                        1145 non-null   object\n",
      " 8   Education and awareness policy                                   1145 non-null   object\n",
      " 9   Policy                                                           1145 non-null   object\n",
      " 10  Prevention, Detection and Recovery                               1145 non-null   object\n",
      " 11  Improper network segmentation                                    1145 non-null   object\n",
      " 12  Inappropriate remote access                                      1145 non-null   object\n",
      " 13  Absence of encryption                                            1145 non-null   object\n",
      " 14  Detector                                                         1145 non-null   object\n",
      " 15  Restructuring after attack                                       1145 non-null   object\n",
      " 16  Bribe/ransom paid                                                1145 non-null   object\n",
      " 17  Free identity or credit theft monitoring                         1145 non-null   object\n",
      " 18  Additional disclosure of information                             1145 non-null   object\n",
      " 19  Number of users affected                                         1145 non-null   object\n",
      " 20  Overall nature of attack                                         1145 non-null   object\n",
      " 21  Attack type                                                      1145 non-null   object\n",
      " 22  Attacker                                                         1145 non-null   object\n",
      " 23  Attack vector                                                    1145 non-null   object\n",
      " 24  Impact on data                                                   1145 non-null   object\n",
      " 25  Aspect of Confidentiality-Integrity-Availability triad affected  1145 non-null   object\n",
      " 26  Individual(s) name(s) leaked/exposed                             1145 non-null   object\n",
      " 27  Address(es) leaked/exposed                                       1145 non-null   object\n",
      " 28  Other personally identifiable information (PII) leaked/exposed   1145 non-null   object\n",
      " 29  Track 1 - Credit card details leaked/exposed                     1145 non-null   object\n",
      " 30  Social security number/tax number leaked/exposed                 1145 non-null   object\n",
      " 31  Subsequent fraudulent use of data                                1145 non-null   object\n",
      " 32  Investigation                                                    1145 non-null   object\n",
      " 33  Undertook investigation                                          1145 non-null   object\n",
      " 34  Litigation by public                                             1145 non-null   object\n",
      " 35  Penalties/settlement paid or actions imposed                     1145 non-null   object\n",
      " 36  Imposed penalties or actions on organisation                     1145 non-null   object\n",
      " 37  Fines issued by government or relevant body                      1145 non-null   object\n",
      " 38  Settlement paid                                                  1145 non-null   object\n",
      "dtypes: object(39)\n",
      "memory usage: 349.0+ KB\n"
     ]
    }
   ],
   "source": [
    "df1.info()"
   ]
  },
  {
   "cell_type": "code",
   "execution_count": 60,
   "metadata": {},
   "outputs": [],
   "source": [
    "df1[\"Number of users affected\"].replace(\"Missing\",0,inplace=True)\n"
   ]
  },
  {
   "cell_type": "code",
   "execution_count": 61,
   "metadata": {},
   "outputs": [
    {
     "data": {
      "text/plain": [
       "0           632\n",
       "10000         8\n",
       "800000        8\n",
       "300000        7\n",
       "2000000       7\n",
       "           ... \n",
       "1870          1\n",
       "10000000      1\n",
       "106000        1\n",
       "87400         1\n",
       "1100000       1\n",
       "Name: Number of users affected, Length: 347, dtype: int64"
      ]
     },
     "execution_count": 61,
     "metadata": {},
     "output_type": "execute_result"
    }
   ],
   "source": [
    "df1[\"Number of users affected\"].value_counts()"
   ]
  },
  {
   "cell_type": "code",
   "execution_count": 62,
   "metadata": {},
   "outputs": [],
   "source": [
    "df1[\"Number of users affected\"].replace(\"All records\",0,inplace=True)"
   ]
  },
  {
   "cell_type": "code",
   "execution_count": 63,
   "metadata": {},
   "outputs": [],
   "source": [
    "df1[\"Number of users affected\"]=df1[\"Number of users affected\"].astype(float)"
   ]
  },
  {
   "cell_type": "markdown",
   "metadata": {},
   "source": [
    "# Machine learning"
   ]
  },
  {
   "cell_type": "code",
   "execution_count": 64,
   "metadata": {},
   "outputs": [],
   "source": [
    "df_1=df1.select_dtypes(\"object\") # sepreating data set into object "
   ]
  },
  {
   "cell_type": "code",
   "execution_count": 65,
   "metadata": {},
   "outputs": [],
   "source": [
    "df2=df1.select_dtypes(\"float\")# sepreating data set into numeric  "
   ]
  },
  {
   "cell_type": "code",
   "execution_count": 66,
   "metadata": {},
   "outputs": [],
   "source": [
    "from sklearn.preprocessing import LabelEncoder # using label encoder to conver text into numeric value"
   ]
  },
  {
   "cell_type": "code",
   "execution_count": 67,
   "metadata": {},
   "outputs": [],
   "source": [
    "le =LabelEncoder() # creating object of labelencoder"
   ]
  },
  {
   "cell_type": "code",
   "execution_count": 68,
   "metadata": {},
   "outputs": [
    {
     "name": "stderr",
     "output_type": "stream",
     "text": [
      "<ipython-input-68-778dfb5ea0ce>:2: SettingWithCopyWarning: \n",
      "A value is trying to be set on a copy of a slice from a DataFrame.\n",
      "Try using .loc[row_indexer,col_indexer] = value instead\n",
      "\n",
      "See the caveats in the documentation: https://pandas.pydata.org/pandas-docs/stable/user_guide/indexing.html#returning-a-view-versus-a-copy\n",
      "  df_1[col]=le.fit_transform(df_1[col])\n"
     ]
    }
   ],
   "source": [
    "for col in df_1:\n",
    "    df_1[col]=le.fit_transform(df_1[col]) # applying label encoder on all."
   ]
  },
  {
   "cell_type": "code",
   "execution_count": 69,
   "metadata": {},
   "outputs": [
    {
     "data": {
      "text/html": [
       "<div>\n",
       "<style scoped>\n",
       "    .dataframe tbody tr th:only-of-type {\n",
       "        vertical-align: middle;\n",
       "    }\n",
       "\n",
       "    .dataframe tbody tr th {\n",
       "        vertical-align: top;\n",
       "    }\n",
       "\n",
       "    .dataframe thead th {\n",
       "        text-align: right;\n",
       "    }\n",
       "</style>\n",
       "<table border=\"1\" class=\"dataframe\">\n",
       "  <thead>\n",
       "    <tr style=\"text-align: right;\">\n",
       "      <th></th>\n",
       "      <th>Organisation</th>\n",
       "      <th>Critical Industry</th>\n",
       "      <th>Organisation size</th>\n",
       "      <th>Level of digital intensity</th>\n",
       "      <th>Sector</th>\n",
       "      <th>Country</th>\n",
       "      <th>Cyber security role</th>\n",
       "      <th>Cyber security frameworks</th>\n",
       "      <th>Education and awareness policy</th>\n",
       "      <th>Policy</th>\n",
       "      <th>...</th>\n",
       "      <th>Track 1 - Credit card details leaked/exposed</th>\n",
       "      <th>Social security number/tax number leaked/exposed</th>\n",
       "      <th>Subsequent fraudulent use of data</th>\n",
       "      <th>Investigation</th>\n",
       "      <th>Undertook investigation</th>\n",
       "      <th>Litigation by public</th>\n",
       "      <th>Penalties/settlement paid or actions imposed</th>\n",
       "      <th>Imposed penalties or actions on organisation</th>\n",
       "      <th>Fines issued by government or relevant body</th>\n",
       "      <th>Settlement paid</th>\n",
       "    </tr>\n",
       "  </thead>\n",
       "  <tbody>\n",
       "    <tr>\n",
       "      <th>0</th>\n",
       "      <td>0</td>\n",
       "      <td>0</td>\n",
       "      <td>0</td>\n",
       "      <td>3</td>\n",
       "      <td>33</td>\n",
       "      <td>1</td>\n",
       "      <td>1</td>\n",
       "      <td>0</td>\n",
       "      <td>0</td>\n",
       "      <td>1</td>\n",
       "      <td>...</td>\n",
       "      <td>1</td>\n",
       "      <td>0</td>\n",
       "      <td>0</td>\n",
       "      <td>0</td>\n",
       "      <td>0</td>\n",
       "      <td>0</td>\n",
       "      <td>0</td>\n",
       "      <td>0</td>\n",
       "      <td>0</td>\n",
       "      <td>0</td>\n",
       "    </tr>\n",
       "    <tr>\n",
       "      <th>1</th>\n",
       "      <td>1</td>\n",
       "      <td>1</td>\n",
       "      <td>1</td>\n",
       "      <td>2</td>\n",
       "      <td>16</td>\n",
       "      <td>23</td>\n",
       "      <td>0</td>\n",
       "      <td>0</td>\n",
       "      <td>0</td>\n",
       "      <td>1</td>\n",
       "      <td>...</td>\n",
       "      <td>0</td>\n",
       "      <td>1</td>\n",
       "      <td>0</td>\n",
       "      <td>0</td>\n",
       "      <td>0</td>\n",
       "      <td>0</td>\n",
       "      <td>0</td>\n",
       "      <td>0</td>\n",
       "      <td>0</td>\n",
       "      <td>0</td>\n",
       "    </tr>\n",
       "    <tr>\n",
       "      <th>2</th>\n",
       "      <td>2</td>\n",
       "      <td>0</td>\n",
       "      <td>0</td>\n",
       "      <td>0</td>\n",
       "      <td>20</td>\n",
       "      <td>23</td>\n",
       "      <td>0</td>\n",
       "      <td>0</td>\n",
       "      <td>0</td>\n",
       "      <td>1</td>\n",
       "      <td>...</td>\n",
       "      <td>1</td>\n",
       "      <td>0</td>\n",
       "      <td>0</td>\n",
       "      <td>0</td>\n",
       "      <td>0</td>\n",
       "      <td>0</td>\n",
       "      <td>0</td>\n",
       "      <td>0</td>\n",
       "      <td>0</td>\n",
       "      <td>0</td>\n",
       "    </tr>\n",
       "    <tr>\n",
       "      <th>3</th>\n",
       "      <td>9</td>\n",
       "      <td>1</td>\n",
       "      <td>2</td>\n",
       "      <td>2</td>\n",
       "      <td>16</td>\n",
       "      <td>23</td>\n",
       "      <td>0</td>\n",
       "      <td>0</td>\n",
       "      <td>0</td>\n",
       "      <td>1</td>\n",
       "      <td>...</td>\n",
       "      <td>0</td>\n",
       "      <td>1</td>\n",
       "      <td>0</td>\n",
       "      <td>1</td>\n",
       "      <td>1</td>\n",
       "      <td>0</td>\n",
       "      <td>1</td>\n",
       "      <td>1</td>\n",
       "      <td>1</td>\n",
       "      <td>0</td>\n",
       "    </tr>\n",
       "    <tr>\n",
       "      <th>4</th>\n",
       "      <td>10</td>\n",
       "      <td>1</td>\n",
       "      <td>3</td>\n",
       "      <td>2</td>\n",
       "      <td>16</td>\n",
       "      <td>23</td>\n",
       "      <td>0</td>\n",
       "      <td>0</td>\n",
       "      <td>0</td>\n",
       "      <td>1</td>\n",
       "      <td>...</td>\n",
       "      <td>0</td>\n",
       "      <td>1</td>\n",
       "      <td>0</td>\n",
       "      <td>0</td>\n",
       "      <td>0</td>\n",
       "      <td>0</td>\n",
       "      <td>0</td>\n",
       "      <td>0</td>\n",
       "      <td>0</td>\n",
       "      <td>0</td>\n",
       "    </tr>\n",
       "    <tr>\n",
       "      <th>...</th>\n",
       "      <td>...</td>\n",
       "      <td>...</td>\n",
       "      <td>...</td>\n",
       "      <td>...</td>\n",
       "      <td>...</td>\n",
       "      <td>...</td>\n",
       "      <td>...</td>\n",
       "      <td>...</td>\n",
       "      <td>...</td>\n",
       "      <td>...</td>\n",
       "      <td>...</td>\n",
       "      <td>...</td>\n",
       "      <td>...</td>\n",
       "      <td>...</td>\n",
       "      <td>...</td>\n",
       "      <td>...</td>\n",
       "      <td>...</td>\n",
       "      <td>...</td>\n",
       "      <td>...</td>\n",
       "      <td>...</td>\n",
       "      <td>...</td>\n",
       "    </tr>\n",
       "    <tr>\n",
       "      <th>1140</th>\n",
       "      <td>1101</td>\n",
       "      <td>0</td>\n",
       "      <td>0</td>\n",
       "      <td>2</td>\n",
       "      <td>29</td>\n",
       "      <td>23</td>\n",
       "      <td>0</td>\n",
       "      <td>0</td>\n",
       "      <td>0</td>\n",
       "      <td>1</td>\n",
       "      <td>...</td>\n",
       "      <td>0</td>\n",
       "      <td>0</td>\n",
       "      <td>0</td>\n",
       "      <td>1</td>\n",
       "      <td>1</td>\n",
       "      <td>1</td>\n",
       "      <td>1</td>\n",
       "      <td>0</td>\n",
       "      <td>0</td>\n",
       "      <td>1</td>\n",
       "    </tr>\n",
       "    <tr>\n",
       "      <th>1141</th>\n",
       "      <td>1102</td>\n",
       "      <td>1</td>\n",
       "      <td>1</td>\n",
       "      <td>1</td>\n",
       "      <td>0</td>\n",
       "      <td>23</td>\n",
       "      <td>0</td>\n",
       "      <td>0</td>\n",
       "      <td>0</td>\n",
       "      <td>1</td>\n",
       "      <td>...</td>\n",
       "      <td>1</td>\n",
       "      <td>0</td>\n",
       "      <td>0</td>\n",
       "      <td>0</td>\n",
       "      <td>0</td>\n",
       "      <td>0</td>\n",
       "      <td>0</td>\n",
       "      <td>0</td>\n",
       "      <td>0</td>\n",
       "      <td>0</td>\n",
       "    </tr>\n",
       "    <tr>\n",
       "      <th>1142</th>\n",
       "      <td>1103</td>\n",
       "      <td>0</td>\n",
       "      <td>0</td>\n",
       "      <td>2</td>\n",
       "      <td>29</td>\n",
       "      <td>23</td>\n",
       "      <td>0</td>\n",
       "      <td>0</td>\n",
       "      <td>0</td>\n",
       "      <td>1</td>\n",
       "      <td>...</td>\n",
       "      <td>0</td>\n",
       "      <td>0</td>\n",
       "      <td>0</td>\n",
       "      <td>0</td>\n",
       "      <td>0</td>\n",
       "      <td>0</td>\n",
       "      <td>0</td>\n",
       "      <td>0</td>\n",
       "      <td>0</td>\n",
       "      <td>0</td>\n",
       "    </tr>\n",
       "    <tr>\n",
       "      <th>1143</th>\n",
       "      <td>1104</td>\n",
       "      <td>1</td>\n",
       "      <td>0</td>\n",
       "      <td>2</td>\n",
       "      <td>16</td>\n",
       "      <td>23</td>\n",
       "      <td>0</td>\n",
       "      <td>0</td>\n",
       "      <td>0</td>\n",
       "      <td>1</td>\n",
       "      <td>...</td>\n",
       "      <td>1</td>\n",
       "      <td>0</td>\n",
       "      <td>1</td>\n",
       "      <td>0</td>\n",
       "      <td>0</td>\n",
       "      <td>0</td>\n",
       "      <td>0</td>\n",
       "      <td>0</td>\n",
       "      <td>0</td>\n",
       "      <td>0</td>\n",
       "    </tr>\n",
       "    <tr>\n",
       "      <th>1144</th>\n",
       "      <td>1105</td>\n",
       "      <td>0</td>\n",
       "      <td>0</td>\n",
       "      <td>0</td>\n",
       "      <td>2</td>\n",
       "      <td>23</td>\n",
       "      <td>0</td>\n",
       "      <td>0</td>\n",
       "      <td>0</td>\n",
       "      <td>1</td>\n",
       "      <td>...</td>\n",
       "      <td>0</td>\n",
       "      <td>0</td>\n",
       "      <td>1</td>\n",
       "      <td>0</td>\n",
       "      <td>0</td>\n",
       "      <td>0</td>\n",
       "      <td>0</td>\n",
       "      <td>0</td>\n",
       "      <td>0</td>\n",
       "      <td>0</td>\n",
       "    </tr>\n",
       "  </tbody>\n",
       "</table>\n",
       "<p>1145 rows × 38 columns</p>\n",
       "</div>"
      ],
      "text/plain": [
       "      Organisation  Critical Industry  Organisation size  \\\n",
       "0                0                  0                  0   \n",
       "1                1                  1                  1   \n",
       "2                2                  0                  0   \n",
       "3                9                  1                  2   \n",
       "4               10                  1                  3   \n",
       "...            ...                ...                ...   \n",
       "1140          1101                  0                  0   \n",
       "1141          1102                  1                  1   \n",
       "1142          1103                  0                  0   \n",
       "1143          1104                  1                  0   \n",
       "1144          1105                  0                  0   \n",
       "\n",
       "      Level of digital intensity  Sector  Country  Cyber security role  \\\n",
       "0                              3      33        1                    1   \n",
       "1                              2      16       23                    0   \n",
       "2                              0      20       23                    0   \n",
       "3                              2      16       23                    0   \n",
       "4                              2      16       23                    0   \n",
       "...                          ...     ...      ...                  ...   \n",
       "1140                           2      29       23                    0   \n",
       "1141                           1       0       23                    0   \n",
       "1142                           2      29       23                    0   \n",
       "1143                           2      16       23                    0   \n",
       "1144                           0       2       23                    0   \n",
       "\n",
       "      Cyber security frameworks  Education and awareness policy  Policy  ...  \\\n",
       "0                             0                               0       1  ...   \n",
       "1                             0                               0       1  ...   \n",
       "2                             0                               0       1  ...   \n",
       "3                             0                               0       1  ...   \n",
       "4                             0                               0       1  ...   \n",
       "...                         ...                             ...     ...  ...   \n",
       "1140                          0                               0       1  ...   \n",
       "1141                          0                               0       1  ...   \n",
       "1142                          0                               0       1  ...   \n",
       "1143                          0                               0       1  ...   \n",
       "1144                          0                               0       1  ...   \n",
       "\n",
       "      Track 1 - Credit card details leaked/exposed  \\\n",
       "0                                                1   \n",
       "1                                                0   \n",
       "2                                                1   \n",
       "3                                                0   \n",
       "4                                                0   \n",
       "...                                            ...   \n",
       "1140                                             0   \n",
       "1141                                             1   \n",
       "1142                                             0   \n",
       "1143                                             1   \n",
       "1144                                             0   \n",
       "\n",
       "      Social security number/tax number leaked/exposed  \\\n",
       "0                                                    0   \n",
       "1                                                    1   \n",
       "2                                                    0   \n",
       "3                                                    1   \n",
       "4                                                    1   \n",
       "...                                                ...   \n",
       "1140                                                 0   \n",
       "1141                                                 0   \n",
       "1142                                                 0   \n",
       "1143                                                 0   \n",
       "1144                                                 0   \n",
       "\n",
       "      Subsequent fraudulent use of data  Investigation  \\\n",
       "0                                     0              0   \n",
       "1                                     0              0   \n",
       "2                                     0              0   \n",
       "3                                     0              1   \n",
       "4                                     0              0   \n",
       "...                                 ...            ...   \n",
       "1140                                  0              1   \n",
       "1141                                  0              0   \n",
       "1142                                  0              0   \n",
       "1143                                  1              0   \n",
       "1144                                  1              0   \n",
       "\n",
       "      Undertook investigation  Litigation by public  \\\n",
       "0                           0                     0   \n",
       "1                           0                     0   \n",
       "2                           0                     0   \n",
       "3                           1                     0   \n",
       "4                           0                     0   \n",
       "...                       ...                   ...   \n",
       "1140                        1                     1   \n",
       "1141                        0                     0   \n",
       "1142                        0                     0   \n",
       "1143                        0                     0   \n",
       "1144                        0                     0   \n",
       "\n",
       "      Penalties/settlement paid or actions imposed  \\\n",
       "0                                                0   \n",
       "1                                                0   \n",
       "2                                                0   \n",
       "3                                                1   \n",
       "4                                                0   \n",
       "...                                            ...   \n",
       "1140                                             1   \n",
       "1141                                             0   \n",
       "1142                                             0   \n",
       "1143                                             0   \n",
       "1144                                             0   \n",
       "\n",
       "      Imposed penalties or actions on organisation  \\\n",
       "0                                                0   \n",
       "1                                                0   \n",
       "2                                                0   \n",
       "3                                                1   \n",
       "4                                                0   \n",
       "...                                            ...   \n",
       "1140                                             0   \n",
       "1141                                             0   \n",
       "1142                                             0   \n",
       "1143                                             0   \n",
       "1144                                             0   \n",
       "\n",
       "      Fines issued by government or relevant body  Settlement paid  \n",
       "0                                               0                0  \n",
       "1                                               0                0  \n",
       "2                                               0                0  \n",
       "3                                               1                0  \n",
       "4                                               0                0  \n",
       "...                                           ...              ...  \n",
       "1140                                            0                1  \n",
       "1141                                            0                0  \n",
       "1142                                            0                0  \n",
       "1143                                            0                0  \n",
       "1144                                            0                0  \n",
       "\n",
       "[1145 rows x 38 columns]"
      ]
     },
     "execution_count": 69,
     "metadata": {},
     "output_type": "execute_result"
    }
   ],
   "source": [
    "df_1"
   ]
  },
  {
   "cell_type": "code",
   "execution_count": 70,
   "metadata": {},
   "outputs": [],
   "source": [
    "df_new=pd.concat([df_1,df2],axis=1) # concating the seprated data frame"
   ]
  },
  {
   "cell_type": "code",
   "execution_count": 71,
   "metadata": {},
   "outputs": [
    {
     "data": {
      "text/html": [
       "<div>\n",
       "<style scoped>\n",
       "    .dataframe tbody tr th:only-of-type {\n",
       "        vertical-align: middle;\n",
       "    }\n",
       "\n",
       "    .dataframe tbody tr th {\n",
       "        vertical-align: top;\n",
       "    }\n",
       "\n",
       "    .dataframe thead th {\n",
       "        text-align: right;\n",
       "    }\n",
       "</style>\n",
       "<table border=\"1\" class=\"dataframe\">\n",
       "  <thead>\n",
       "    <tr style=\"text-align: right;\">\n",
       "      <th></th>\n",
       "      <th>Organisation</th>\n",
       "      <th>Critical Industry</th>\n",
       "      <th>Organisation size</th>\n",
       "      <th>Level of digital intensity</th>\n",
       "      <th>Sector</th>\n",
       "      <th>Country</th>\n",
       "      <th>Cyber security role</th>\n",
       "      <th>Cyber security frameworks</th>\n",
       "      <th>Education and awareness policy</th>\n",
       "      <th>Policy</th>\n",
       "      <th>...</th>\n",
       "      <th>Social security number/tax number leaked/exposed</th>\n",
       "      <th>Subsequent fraudulent use of data</th>\n",
       "      <th>Investigation</th>\n",
       "      <th>Undertook investigation</th>\n",
       "      <th>Litigation by public</th>\n",
       "      <th>Penalties/settlement paid or actions imposed</th>\n",
       "      <th>Imposed penalties or actions on organisation</th>\n",
       "      <th>Fines issued by government or relevant body</th>\n",
       "      <th>Settlement paid</th>\n",
       "      <th>Number of users affected</th>\n",
       "    </tr>\n",
       "  </thead>\n",
       "  <tbody>\n",
       "    <tr>\n",
       "      <th>0</th>\n",
       "      <td>0</td>\n",
       "      <td>0</td>\n",
       "      <td>0</td>\n",
       "      <td>3</td>\n",
       "      <td>33</td>\n",
       "      <td>1</td>\n",
       "      <td>1</td>\n",
       "      <td>0</td>\n",
       "      <td>0</td>\n",
       "      <td>1</td>\n",
       "      <td>...</td>\n",
       "      <td>0</td>\n",
       "      <td>0</td>\n",
       "      <td>0</td>\n",
       "      <td>0</td>\n",
       "      <td>0</td>\n",
       "      <td>0</td>\n",
       "      <td>0</td>\n",
       "      <td>0</td>\n",
       "      <td>0</td>\n",
       "      <td>0.0</td>\n",
       "    </tr>\n",
       "    <tr>\n",
       "      <th>1</th>\n",
       "      <td>1</td>\n",
       "      <td>1</td>\n",
       "      <td>1</td>\n",
       "      <td>2</td>\n",
       "      <td>16</td>\n",
       "      <td>23</td>\n",
       "      <td>0</td>\n",
       "      <td>0</td>\n",
       "      <td>0</td>\n",
       "      <td>1</td>\n",
       "      <td>...</td>\n",
       "      <td>1</td>\n",
       "      <td>0</td>\n",
       "      <td>0</td>\n",
       "      <td>0</td>\n",
       "      <td>0</td>\n",
       "      <td>0</td>\n",
       "      <td>0</td>\n",
       "      <td>0</td>\n",
       "      <td>0</td>\n",
       "      <td>55447.0</td>\n",
       "    </tr>\n",
       "    <tr>\n",
       "      <th>2</th>\n",
       "      <td>2</td>\n",
       "      <td>0</td>\n",
       "      <td>0</td>\n",
       "      <td>0</td>\n",
       "      <td>20</td>\n",
       "      <td>23</td>\n",
       "      <td>0</td>\n",
       "      <td>0</td>\n",
       "      <td>0</td>\n",
       "      <td>1</td>\n",
       "      <td>...</td>\n",
       "      <td>0</td>\n",
       "      <td>0</td>\n",
       "      <td>0</td>\n",
       "      <td>0</td>\n",
       "      <td>0</td>\n",
       "      <td>0</td>\n",
       "      <td>0</td>\n",
       "      <td>0</td>\n",
       "      <td>0</td>\n",
       "      <td>0.0</td>\n",
       "    </tr>\n",
       "    <tr>\n",
       "      <th>3</th>\n",
       "      <td>9</td>\n",
       "      <td>1</td>\n",
       "      <td>2</td>\n",
       "      <td>2</td>\n",
       "      <td>16</td>\n",
       "      <td>23</td>\n",
       "      <td>0</td>\n",
       "      <td>0</td>\n",
       "      <td>0</td>\n",
       "      <td>1</td>\n",
       "      <td>...</td>\n",
       "      <td>1</td>\n",
       "      <td>0</td>\n",
       "      <td>1</td>\n",
       "      <td>1</td>\n",
       "      <td>0</td>\n",
       "      <td>1</td>\n",
       "      <td>1</td>\n",
       "      <td>1</td>\n",
       "      <td>0</td>\n",
       "      <td>23000.0</td>\n",
       "    </tr>\n",
       "    <tr>\n",
       "      <th>4</th>\n",
       "      <td>10</td>\n",
       "      <td>1</td>\n",
       "      <td>3</td>\n",
       "      <td>2</td>\n",
       "      <td>16</td>\n",
       "      <td>23</td>\n",
       "      <td>0</td>\n",
       "      <td>0</td>\n",
       "      <td>0</td>\n",
       "      <td>1</td>\n",
       "      <td>...</td>\n",
       "      <td>1</td>\n",
       "      <td>0</td>\n",
       "      <td>0</td>\n",
       "      <td>0</td>\n",
       "      <td>0</td>\n",
       "      <td>0</td>\n",
       "      <td>0</td>\n",
       "      <td>0</td>\n",
       "      <td>0</td>\n",
       "      <td>2650000.0</td>\n",
       "    </tr>\n",
       "    <tr>\n",
       "      <th>...</th>\n",
       "      <td>...</td>\n",
       "      <td>...</td>\n",
       "      <td>...</td>\n",
       "      <td>...</td>\n",
       "      <td>...</td>\n",
       "      <td>...</td>\n",
       "      <td>...</td>\n",
       "      <td>...</td>\n",
       "      <td>...</td>\n",
       "      <td>...</td>\n",
       "      <td>...</td>\n",
       "      <td>...</td>\n",
       "      <td>...</td>\n",
       "      <td>...</td>\n",
       "      <td>...</td>\n",
       "      <td>...</td>\n",
       "      <td>...</td>\n",
       "      <td>...</td>\n",
       "      <td>...</td>\n",
       "      <td>...</td>\n",
       "      <td>...</td>\n",
       "    </tr>\n",
       "    <tr>\n",
       "      <th>1140</th>\n",
       "      <td>1101</td>\n",
       "      <td>0</td>\n",
       "      <td>0</td>\n",
       "      <td>2</td>\n",
       "      <td>29</td>\n",
       "      <td>23</td>\n",
       "      <td>0</td>\n",
       "      <td>0</td>\n",
       "      <td>0</td>\n",
       "      <td>1</td>\n",
       "      <td>...</td>\n",
       "      <td>0</td>\n",
       "      <td>0</td>\n",
       "      <td>1</td>\n",
       "      <td>1</td>\n",
       "      <td>1</td>\n",
       "      <td>1</td>\n",
       "      <td>0</td>\n",
       "      <td>0</td>\n",
       "      <td>1</td>\n",
       "      <td>24000000.0</td>\n",
       "    </tr>\n",
       "    <tr>\n",
       "      <th>1141</th>\n",
       "      <td>1102</td>\n",
       "      <td>1</td>\n",
       "      <td>1</td>\n",
       "      <td>1</td>\n",
       "      <td>0</td>\n",
       "      <td>23</td>\n",
       "      <td>0</td>\n",
       "      <td>0</td>\n",
       "      <td>0</td>\n",
       "      <td>1</td>\n",
       "      <td>...</td>\n",
       "      <td>0</td>\n",
       "      <td>0</td>\n",
       "      <td>0</td>\n",
       "      <td>0</td>\n",
       "      <td>0</td>\n",
       "      <td>0</td>\n",
       "      <td>0</td>\n",
       "      <td>0</td>\n",
       "      <td>0</td>\n",
       "      <td>0.0</td>\n",
       "    </tr>\n",
       "    <tr>\n",
       "      <th>1142</th>\n",
       "      <td>1103</td>\n",
       "      <td>0</td>\n",
       "      <td>0</td>\n",
       "      <td>2</td>\n",
       "      <td>29</td>\n",
       "      <td>23</td>\n",
       "      <td>0</td>\n",
       "      <td>0</td>\n",
       "      <td>0</td>\n",
       "      <td>1</td>\n",
       "      <td>...</td>\n",
       "      <td>0</td>\n",
       "      <td>0</td>\n",
       "      <td>0</td>\n",
       "      <td>0</td>\n",
       "      <td>0</td>\n",
       "      <td>0</td>\n",
       "      <td>0</td>\n",
       "      <td>0</td>\n",
       "      <td>0</td>\n",
       "      <td>0.0</td>\n",
       "    </tr>\n",
       "    <tr>\n",
       "      <th>1143</th>\n",
       "      <td>1104</td>\n",
       "      <td>1</td>\n",
       "      <td>0</td>\n",
       "      <td>2</td>\n",
       "      <td>16</td>\n",
       "      <td>23</td>\n",
       "      <td>0</td>\n",
       "      <td>0</td>\n",
       "      <td>0</td>\n",
       "      <td>1</td>\n",
       "      <td>...</td>\n",
       "      <td>0</td>\n",
       "      <td>1</td>\n",
       "      <td>0</td>\n",
       "      <td>0</td>\n",
       "      <td>0</td>\n",
       "      <td>0</td>\n",
       "      <td>0</td>\n",
       "      <td>0</td>\n",
       "      <td>0</td>\n",
       "      <td>0.0</td>\n",
       "    </tr>\n",
       "    <tr>\n",
       "      <th>1144</th>\n",
       "      <td>1105</td>\n",
       "      <td>0</td>\n",
       "      <td>0</td>\n",
       "      <td>0</td>\n",
       "      <td>2</td>\n",
       "      <td>23</td>\n",
       "      <td>0</td>\n",
       "      <td>0</td>\n",
       "      <td>0</td>\n",
       "      <td>1</td>\n",
       "      <td>...</td>\n",
       "      <td>0</td>\n",
       "      <td>1</td>\n",
       "      <td>0</td>\n",
       "      <td>0</td>\n",
       "      <td>0</td>\n",
       "      <td>0</td>\n",
       "      <td>0</td>\n",
       "      <td>0</td>\n",
       "      <td>0</td>\n",
       "      <td>17000000.0</td>\n",
       "    </tr>\n",
       "  </tbody>\n",
       "</table>\n",
       "<p>1145 rows × 39 columns</p>\n",
       "</div>"
      ],
      "text/plain": [
       "      Organisation  Critical Industry  Organisation size  \\\n",
       "0                0                  0                  0   \n",
       "1                1                  1                  1   \n",
       "2                2                  0                  0   \n",
       "3                9                  1                  2   \n",
       "4               10                  1                  3   \n",
       "...            ...                ...                ...   \n",
       "1140          1101                  0                  0   \n",
       "1141          1102                  1                  1   \n",
       "1142          1103                  0                  0   \n",
       "1143          1104                  1                  0   \n",
       "1144          1105                  0                  0   \n",
       "\n",
       "      Level of digital intensity  Sector  Country  Cyber security role  \\\n",
       "0                              3      33        1                    1   \n",
       "1                              2      16       23                    0   \n",
       "2                              0      20       23                    0   \n",
       "3                              2      16       23                    0   \n",
       "4                              2      16       23                    0   \n",
       "...                          ...     ...      ...                  ...   \n",
       "1140                           2      29       23                    0   \n",
       "1141                           1       0       23                    0   \n",
       "1142                           2      29       23                    0   \n",
       "1143                           2      16       23                    0   \n",
       "1144                           0       2       23                    0   \n",
       "\n",
       "      Cyber security frameworks  Education and awareness policy  Policy  ...  \\\n",
       "0                             0                               0       1  ...   \n",
       "1                             0                               0       1  ...   \n",
       "2                             0                               0       1  ...   \n",
       "3                             0                               0       1  ...   \n",
       "4                             0                               0       1  ...   \n",
       "...                         ...                             ...     ...  ...   \n",
       "1140                          0                               0       1  ...   \n",
       "1141                          0                               0       1  ...   \n",
       "1142                          0                               0       1  ...   \n",
       "1143                          0                               0       1  ...   \n",
       "1144                          0                               0       1  ...   \n",
       "\n",
       "      Social security number/tax number leaked/exposed  \\\n",
       "0                                                    0   \n",
       "1                                                    1   \n",
       "2                                                    0   \n",
       "3                                                    1   \n",
       "4                                                    1   \n",
       "...                                                ...   \n",
       "1140                                                 0   \n",
       "1141                                                 0   \n",
       "1142                                                 0   \n",
       "1143                                                 0   \n",
       "1144                                                 0   \n",
       "\n",
       "      Subsequent fraudulent use of data  Investigation  \\\n",
       "0                                     0              0   \n",
       "1                                     0              0   \n",
       "2                                     0              0   \n",
       "3                                     0              1   \n",
       "4                                     0              0   \n",
       "...                                 ...            ...   \n",
       "1140                                  0              1   \n",
       "1141                                  0              0   \n",
       "1142                                  0              0   \n",
       "1143                                  1              0   \n",
       "1144                                  1              0   \n",
       "\n",
       "      Undertook investigation  Litigation by public  \\\n",
       "0                           0                     0   \n",
       "1                           0                     0   \n",
       "2                           0                     0   \n",
       "3                           1                     0   \n",
       "4                           0                     0   \n",
       "...                       ...                   ...   \n",
       "1140                        1                     1   \n",
       "1141                        0                     0   \n",
       "1142                        0                     0   \n",
       "1143                        0                     0   \n",
       "1144                        0                     0   \n",
       "\n",
       "      Penalties/settlement paid or actions imposed  \\\n",
       "0                                                0   \n",
       "1                                                0   \n",
       "2                                                0   \n",
       "3                                                1   \n",
       "4                                                0   \n",
       "...                                            ...   \n",
       "1140                                             1   \n",
       "1141                                             0   \n",
       "1142                                             0   \n",
       "1143                                             0   \n",
       "1144                                             0   \n",
       "\n",
       "      Imposed penalties or actions on organisation  \\\n",
       "0                                                0   \n",
       "1                                                0   \n",
       "2                                                0   \n",
       "3                                                1   \n",
       "4                                                0   \n",
       "...                                            ...   \n",
       "1140                                             0   \n",
       "1141                                             0   \n",
       "1142                                             0   \n",
       "1143                                             0   \n",
       "1144                                             0   \n",
       "\n",
       "      Fines issued by government or relevant body  Settlement paid  \\\n",
       "0                                               0                0   \n",
       "1                                               0                0   \n",
       "2                                               0                0   \n",
       "3                                               1                0   \n",
       "4                                               0                0   \n",
       "...                                           ...              ...   \n",
       "1140                                            0                1   \n",
       "1141                                            0                0   \n",
       "1142                                            0                0   \n",
       "1143                                            0                0   \n",
       "1144                                            0                0   \n",
       "\n",
       "      Number of users affected  \n",
       "0                          0.0  \n",
       "1                      55447.0  \n",
       "2                          0.0  \n",
       "3                      23000.0  \n",
       "4                    2650000.0  \n",
       "...                        ...  \n",
       "1140                24000000.0  \n",
       "1141                       0.0  \n",
       "1142                       0.0  \n",
       "1143                       0.0  \n",
       "1144                17000000.0  \n",
       "\n",
       "[1145 rows x 39 columns]"
      ]
     },
     "execution_count": 71,
     "metadata": {},
     "output_type": "execute_result"
    }
   ],
   "source": [
    "df_new"
   ]
  },
  {
   "cell_type": "code",
   "execution_count": 72,
   "metadata": {},
   "outputs": [],
   "source": [
    "from sklearn.preprocessing import StandardScaler"
   ]
  },
  {
   "cell_type": "code",
   "execution_count": 73,
   "metadata": {},
   "outputs": [],
   "source": [
    "for col in df_new:\n",
    "    sc=StandardScaler()\n",
    "    df_new[col]=sc.fit_transform(df_new[[col]])# using standard scaler to bring the value in same range."
   ]
  },
  {
   "cell_type": "code",
   "execution_count": 74,
   "metadata": {},
   "outputs": [
    {
     "data": {
      "text/html": [
       "<div>\n",
       "<style scoped>\n",
       "    .dataframe tbody tr th:only-of-type {\n",
       "        vertical-align: middle;\n",
       "    }\n",
       "\n",
       "    .dataframe tbody tr th {\n",
       "        vertical-align: top;\n",
       "    }\n",
       "\n",
       "    .dataframe thead th {\n",
       "        text-align: right;\n",
       "    }\n",
       "</style>\n",
       "<table border=\"1\" class=\"dataframe\">\n",
       "  <thead>\n",
       "    <tr style=\"text-align: right;\">\n",
       "      <th></th>\n",
       "      <th>Organisation</th>\n",
       "      <th>Critical Industry</th>\n",
       "      <th>Organisation size</th>\n",
       "      <th>Level of digital intensity</th>\n",
       "      <th>Sector</th>\n",
       "      <th>Country</th>\n",
       "      <th>Cyber security role</th>\n",
       "      <th>Cyber security frameworks</th>\n",
       "      <th>Education and awareness policy</th>\n",
       "      <th>Policy</th>\n",
       "      <th>...</th>\n",
       "      <th>Social security number/tax number leaked/exposed</th>\n",
       "      <th>Subsequent fraudulent use of data</th>\n",
       "      <th>Investigation</th>\n",
       "      <th>Undertook investigation</th>\n",
       "      <th>Litigation by public</th>\n",
       "      <th>Penalties/settlement paid or actions imposed</th>\n",
       "      <th>Imposed penalties or actions on organisation</th>\n",
       "      <th>Fines issued by government or relevant body</th>\n",
       "      <th>Settlement paid</th>\n",
       "      <th>Number of users affected</th>\n",
       "    </tr>\n",
       "  </thead>\n",
       "  <tbody>\n",
       "    <tr>\n",
       "      <th>0</th>\n",
       "      <td>-1.732942</td>\n",
       "      <td>-1.220299</td>\n",
       "      <td>-0.756048</td>\n",
       "      <td>1.243705</td>\n",
       "      <td>1.989299</td>\n",
       "      <td>-5.418687</td>\n",
       "      <td>2.895729</td>\n",
       "      <td>-0.051254</td>\n",
       "      <td>-0.04183</td>\n",
       "      <td>0.066227</td>\n",
       "      <td>...</td>\n",
       "      <td>-1.207096</td>\n",
       "      <td>-0.400101</td>\n",
       "      <td>-0.582393</td>\n",
       "      <td>-0.540671</td>\n",
       "      <td>-0.235159</td>\n",
       "      <td>-0.270374</td>\n",
       "      <td>-0.190261</td>\n",
       "      <td>-0.204588</td>\n",
       "      <td>-0.172268</td>\n",
       "      <td>-0.071328</td>\n",
       "    </tr>\n",
       "    <tr>\n",
       "      <th>1</th>\n",
       "      <td>-1.729834</td>\n",
       "      <td>0.819471</td>\n",
       "      <td>0.103609</td>\n",
       "      <td>0.330272</td>\n",
       "      <td>0.034645</td>\n",
       "      <td>0.237333</td>\n",
       "      <td>-0.345336</td>\n",
       "      <td>-0.051254</td>\n",
       "      <td>-0.04183</td>\n",
       "      <td>0.066227</td>\n",
       "      <td>...</td>\n",
       "      <td>0.828434</td>\n",
       "      <td>-0.400101</td>\n",
       "      <td>-0.582393</td>\n",
       "      <td>-0.540671</td>\n",
       "      <td>-0.235159</td>\n",
       "      <td>-0.270374</td>\n",
       "      <td>-0.190261</td>\n",
       "      <td>-0.204588</td>\n",
       "      <td>-0.172268</td>\n",
       "      <td>-0.070732</td>\n",
       "    </tr>\n",
       "    <tr>\n",
       "      <th>2</th>\n",
       "      <td>-1.726726</td>\n",
       "      <td>-1.220299</td>\n",
       "      <td>-0.756048</td>\n",
       "      <td>-1.496594</td>\n",
       "      <td>0.494563</td>\n",
       "      <td>0.237333</td>\n",
       "      <td>-0.345336</td>\n",
       "      <td>-0.051254</td>\n",
       "      <td>-0.04183</td>\n",
       "      <td>0.066227</td>\n",
       "      <td>...</td>\n",
       "      <td>-1.207096</td>\n",
       "      <td>-0.400101</td>\n",
       "      <td>-0.582393</td>\n",
       "      <td>-0.540671</td>\n",
       "      <td>-0.235159</td>\n",
       "      <td>-0.270374</td>\n",
       "      <td>-0.190261</td>\n",
       "      <td>-0.204588</td>\n",
       "      <td>-0.172268</td>\n",
       "      <td>-0.071328</td>\n",
       "    </tr>\n",
       "    <tr>\n",
       "      <th>3</th>\n",
       "      <td>-1.704970</td>\n",
       "      <td>0.819471</td>\n",
       "      <td>0.963267</td>\n",
       "      <td>0.330272</td>\n",
       "      <td>0.034645</td>\n",
       "      <td>0.237333</td>\n",
       "      <td>-0.345336</td>\n",
       "      <td>-0.051254</td>\n",
       "      <td>-0.04183</td>\n",
       "      <td>0.066227</td>\n",
       "      <td>...</td>\n",
       "      <td>0.828434</td>\n",
       "      <td>-0.400101</td>\n",
       "      <td>1.717054</td>\n",
       "      <td>1.849554</td>\n",
       "      <td>-0.235159</td>\n",
       "      <td>3.698579</td>\n",
       "      <td>5.255949</td>\n",
       "      <td>4.887873</td>\n",
       "      <td>-0.172268</td>\n",
       "      <td>-0.071081</td>\n",
       "    </tr>\n",
       "    <tr>\n",
       "      <th>4</th>\n",
       "      <td>-1.701862</td>\n",
       "      <td>0.819471</td>\n",
       "      <td>1.822925</td>\n",
       "      <td>0.330272</td>\n",
       "      <td>0.034645</td>\n",
       "      <td>0.237333</td>\n",
       "      <td>-0.345336</td>\n",
       "      <td>-0.051254</td>\n",
       "      <td>-0.04183</td>\n",
       "      <td>0.066227</td>\n",
       "      <td>...</td>\n",
       "      <td>0.828434</td>\n",
       "      <td>-0.400101</td>\n",
       "      <td>-0.582393</td>\n",
       "      <td>-0.540671</td>\n",
       "      <td>-0.235159</td>\n",
       "      <td>-0.270374</td>\n",
       "      <td>-0.190261</td>\n",
       "      <td>-0.204588</td>\n",
       "      <td>-0.172268</td>\n",
       "      <td>-0.042809</td>\n",
       "    </tr>\n",
       "    <tr>\n",
       "      <th>...</th>\n",
       "      <td>...</td>\n",
       "      <td>...</td>\n",
       "      <td>...</td>\n",
       "      <td>...</td>\n",
       "      <td>...</td>\n",
       "      <td>...</td>\n",
       "      <td>...</td>\n",
       "      <td>...</td>\n",
       "      <td>...</td>\n",
       "      <td>...</td>\n",
       "      <td>...</td>\n",
       "      <td>...</td>\n",
       "      <td>...</td>\n",
       "      <td>...</td>\n",
       "      <td>...</td>\n",
       "      <td>...</td>\n",
       "      <td>...</td>\n",
       "      <td>...</td>\n",
       "      <td>...</td>\n",
       "      <td>...</td>\n",
       "      <td>...</td>\n",
       "    </tr>\n",
       "    <tr>\n",
       "      <th>1140</th>\n",
       "      <td>1.688987</td>\n",
       "      <td>-1.220299</td>\n",
       "      <td>-0.756048</td>\n",
       "      <td>0.330272</td>\n",
       "      <td>1.529380</td>\n",
       "      <td>0.237333</td>\n",
       "      <td>-0.345336</td>\n",
       "      <td>-0.051254</td>\n",
       "      <td>-0.04183</td>\n",
       "      <td>0.066227</td>\n",
       "      <td>...</td>\n",
       "      <td>-1.207096</td>\n",
       "      <td>-0.400101</td>\n",
       "      <td>1.717054</td>\n",
       "      <td>1.849554</td>\n",
       "      <td>4.252450</td>\n",
       "      <td>3.698579</td>\n",
       "      <td>-0.190261</td>\n",
       "      <td>-0.204588</td>\n",
       "      <td>5.804909</td>\n",
       "      <td>0.186956</td>\n",
       "    </tr>\n",
       "    <tr>\n",
       "      <th>1141</th>\n",
       "      <td>1.692095</td>\n",
       "      <td>0.819471</td>\n",
       "      <td>0.103609</td>\n",
       "      <td>-0.583161</td>\n",
       "      <td>-1.805030</td>\n",
       "      <td>0.237333</td>\n",
       "      <td>-0.345336</td>\n",
       "      <td>-0.051254</td>\n",
       "      <td>-0.04183</td>\n",
       "      <td>0.066227</td>\n",
       "      <td>...</td>\n",
       "      <td>-1.207096</td>\n",
       "      <td>-0.400101</td>\n",
       "      <td>-0.582393</td>\n",
       "      <td>-0.540671</td>\n",
       "      <td>-0.235159</td>\n",
       "      <td>-0.270374</td>\n",
       "      <td>-0.190261</td>\n",
       "      <td>-0.204588</td>\n",
       "      <td>-0.172268</td>\n",
       "      <td>-0.071328</td>\n",
       "    </tr>\n",
       "    <tr>\n",
       "      <th>1142</th>\n",
       "      <td>1.695203</td>\n",
       "      <td>-1.220299</td>\n",
       "      <td>-0.756048</td>\n",
       "      <td>0.330272</td>\n",
       "      <td>1.529380</td>\n",
       "      <td>0.237333</td>\n",
       "      <td>-0.345336</td>\n",
       "      <td>-0.051254</td>\n",
       "      <td>-0.04183</td>\n",
       "      <td>0.066227</td>\n",
       "      <td>...</td>\n",
       "      <td>-1.207096</td>\n",
       "      <td>-0.400101</td>\n",
       "      <td>-0.582393</td>\n",
       "      <td>-0.540671</td>\n",
       "      <td>-0.235159</td>\n",
       "      <td>-0.270374</td>\n",
       "      <td>-0.190261</td>\n",
       "      <td>-0.204588</td>\n",
       "      <td>-0.172268</td>\n",
       "      <td>-0.071328</td>\n",
       "    </tr>\n",
       "    <tr>\n",
       "      <th>1143</th>\n",
       "      <td>1.698311</td>\n",
       "      <td>0.819471</td>\n",
       "      <td>-0.756048</td>\n",
       "      <td>0.330272</td>\n",
       "      <td>0.034645</td>\n",
       "      <td>0.237333</td>\n",
       "      <td>-0.345336</td>\n",
       "      <td>-0.051254</td>\n",
       "      <td>-0.04183</td>\n",
       "      <td>0.066227</td>\n",
       "      <td>...</td>\n",
       "      <td>-1.207096</td>\n",
       "      <td>2.499367</td>\n",
       "      <td>-0.582393</td>\n",
       "      <td>-0.540671</td>\n",
       "      <td>-0.235159</td>\n",
       "      <td>-0.270374</td>\n",
       "      <td>-0.190261</td>\n",
       "      <td>-0.204588</td>\n",
       "      <td>-0.172268</td>\n",
       "      <td>-0.071328</td>\n",
       "    </tr>\n",
       "    <tr>\n",
       "      <th>1144</th>\n",
       "      <td>1.701419</td>\n",
       "      <td>-1.220299</td>\n",
       "      <td>-0.756048</td>\n",
       "      <td>-1.496594</td>\n",
       "      <td>-1.575071</td>\n",
       "      <td>0.237333</td>\n",
       "      <td>-0.345336</td>\n",
       "      <td>-0.051254</td>\n",
       "      <td>-0.04183</td>\n",
       "      <td>0.066227</td>\n",
       "      <td>...</td>\n",
       "      <td>-1.207096</td>\n",
       "      <td>2.499367</td>\n",
       "      <td>-0.582393</td>\n",
       "      <td>-0.540671</td>\n",
       "      <td>-0.235159</td>\n",
       "      <td>-0.270374</td>\n",
       "      <td>-0.190261</td>\n",
       "      <td>-0.204588</td>\n",
       "      <td>-0.172268</td>\n",
       "      <td>0.111623</td>\n",
       "    </tr>\n",
       "  </tbody>\n",
       "</table>\n",
       "<p>1145 rows × 39 columns</p>\n",
       "</div>"
      ],
      "text/plain": [
       "      Organisation  Critical Industry  Organisation size  \\\n",
       "0        -1.732942          -1.220299          -0.756048   \n",
       "1        -1.729834           0.819471           0.103609   \n",
       "2        -1.726726          -1.220299          -0.756048   \n",
       "3        -1.704970           0.819471           0.963267   \n",
       "4        -1.701862           0.819471           1.822925   \n",
       "...            ...                ...                ...   \n",
       "1140      1.688987          -1.220299          -0.756048   \n",
       "1141      1.692095           0.819471           0.103609   \n",
       "1142      1.695203          -1.220299          -0.756048   \n",
       "1143      1.698311           0.819471          -0.756048   \n",
       "1144      1.701419          -1.220299          -0.756048   \n",
       "\n",
       "      Level of digital intensity    Sector   Country  Cyber security role  \\\n",
       "0                       1.243705  1.989299 -5.418687             2.895729   \n",
       "1                       0.330272  0.034645  0.237333            -0.345336   \n",
       "2                      -1.496594  0.494563  0.237333            -0.345336   \n",
       "3                       0.330272  0.034645  0.237333            -0.345336   \n",
       "4                       0.330272  0.034645  0.237333            -0.345336   \n",
       "...                          ...       ...       ...                  ...   \n",
       "1140                    0.330272  1.529380  0.237333            -0.345336   \n",
       "1141                   -0.583161 -1.805030  0.237333            -0.345336   \n",
       "1142                    0.330272  1.529380  0.237333            -0.345336   \n",
       "1143                    0.330272  0.034645  0.237333            -0.345336   \n",
       "1144                   -1.496594 -1.575071  0.237333            -0.345336   \n",
       "\n",
       "      Cyber security frameworks  Education and awareness policy    Policy  \\\n",
       "0                     -0.051254                        -0.04183  0.066227   \n",
       "1                     -0.051254                        -0.04183  0.066227   \n",
       "2                     -0.051254                        -0.04183  0.066227   \n",
       "3                     -0.051254                        -0.04183  0.066227   \n",
       "4                     -0.051254                        -0.04183  0.066227   \n",
       "...                         ...                             ...       ...   \n",
       "1140                  -0.051254                        -0.04183  0.066227   \n",
       "1141                  -0.051254                        -0.04183  0.066227   \n",
       "1142                  -0.051254                        -0.04183  0.066227   \n",
       "1143                  -0.051254                        -0.04183  0.066227   \n",
       "1144                  -0.051254                        -0.04183  0.066227   \n",
       "\n",
       "      ...  Social security number/tax number leaked/exposed  \\\n",
       "0     ...                                         -1.207096   \n",
       "1     ...                                          0.828434   \n",
       "2     ...                                         -1.207096   \n",
       "3     ...                                          0.828434   \n",
       "4     ...                                          0.828434   \n",
       "...   ...                                               ...   \n",
       "1140  ...                                         -1.207096   \n",
       "1141  ...                                         -1.207096   \n",
       "1142  ...                                         -1.207096   \n",
       "1143  ...                                         -1.207096   \n",
       "1144  ...                                         -1.207096   \n",
       "\n",
       "      Subsequent fraudulent use of data  Investigation  \\\n",
       "0                             -0.400101      -0.582393   \n",
       "1                             -0.400101      -0.582393   \n",
       "2                             -0.400101      -0.582393   \n",
       "3                             -0.400101       1.717054   \n",
       "4                             -0.400101      -0.582393   \n",
       "...                                 ...            ...   \n",
       "1140                          -0.400101       1.717054   \n",
       "1141                          -0.400101      -0.582393   \n",
       "1142                          -0.400101      -0.582393   \n",
       "1143                           2.499367      -0.582393   \n",
       "1144                           2.499367      -0.582393   \n",
       "\n",
       "      Undertook investigation  Litigation by public  \\\n",
       "0                   -0.540671             -0.235159   \n",
       "1                   -0.540671             -0.235159   \n",
       "2                   -0.540671             -0.235159   \n",
       "3                    1.849554             -0.235159   \n",
       "4                   -0.540671             -0.235159   \n",
       "...                       ...                   ...   \n",
       "1140                 1.849554              4.252450   \n",
       "1141                -0.540671             -0.235159   \n",
       "1142                -0.540671             -0.235159   \n",
       "1143                -0.540671             -0.235159   \n",
       "1144                -0.540671             -0.235159   \n",
       "\n",
       "      Penalties/settlement paid or actions imposed  \\\n",
       "0                                        -0.270374   \n",
       "1                                        -0.270374   \n",
       "2                                        -0.270374   \n",
       "3                                         3.698579   \n",
       "4                                        -0.270374   \n",
       "...                                            ...   \n",
       "1140                                      3.698579   \n",
       "1141                                     -0.270374   \n",
       "1142                                     -0.270374   \n",
       "1143                                     -0.270374   \n",
       "1144                                     -0.270374   \n",
       "\n",
       "      Imposed penalties or actions on organisation  \\\n",
       "0                                        -0.190261   \n",
       "1                                        -0.190261   \n",
       "2                                        -0.190261   \n",
       "3                                         5.255949   \n",
       "4                                        -0.190261   \n",
       "...                                            ...   \n",
       "1140                                     -0.190261   \n",
       "1141                                     -0.190261   \n",
       "1142                                     -0.190261   \n",
       "1143                                     -0.190261   \n",
       "1144                                     -0.190261   \n",
       "\n",
       "      Fines issued by government or relevant body  Settlement paid  \\\n",
       "0                                       -0.204588        -0.172268   \n",
       "1                                       -0.204588        -0.172268   \n",
       "2                                       -0.204588        -0.172268   \n",
       "3                                        4.887873        -0.172268   \n",
       "4                                       -0.204588        -0.172268   \n",
       "...                                           ...              ...   \n",
       "1140                                    -0.204588         5.804909   \n",
       "1141                                    -0.204588        -0.172268   \n",
       "1142                                    -0.204588        -0.172268   \n",
       "1143                                    -0.204588        -0.172268   \n",
       "1144                                    -0.204588        -0.172268   \n",
       "\n",
       "      Number of users affected  \n",
       "0                    -0.071328  \n",
       "1                    -0.070732  \n",
       "2                    -0.071328  \n",
       "3                    -0.071081  \n",
       "4                    -0.042809  \n",
       "...                        ...  \n",
       "1140                  0.186956  \n",
       "1141                 -0.071328  \n",
       "1142                 -0.071328  \n",
       "1143                 -0.071328  \n",
       "1144                  0.111623  \n",
       "\n",
       "[1145 rows x 39 columns]"
      ]
     },
     "execution_count": 74,
     "metadata": {},
     "output_type": "execute_result"
    }
   ],
   "source": [
    "df_new"
   ]
  },
  {
   "cell_type": "markdown",
   "metadata": {},
   "source": [
    "preparing for machine learning model"
   ]
  },
  {
   "cell_type": "code",
   "execution_count": 75,
   "metadata": {},
   "outputs": [],
   "source": [
    "x=df_new.drop(\"Attack type\",axis=1)"
   ]
  },
  {
   "cell_type": "code",
   "execution_count": 76,
   "metadata": {},
   "outputs": [],
   "source": [
    "y=df[\"Attack type\"]"
   ]
  },
  {
   "cell_type": "code",
   "execution_count": 77,
   "metadata": {},
   "outputs": [],
   "source": [
    "y1=y # y1 with label encoder"
   ]
  },
  {
   "cell_type": "code",
   "execution_count": 78,
   "metadata": {},
   "outputs": [
    {
     "data": {
      "text/plain": [
       "0            Web compromise\n",
       "1         Installed malware\n",
       "2         Installed malware\n",
       "3            Physical Theft\n",
       "4         Installed malware\n",
       "               ...         \n",
       "1140         Web compromise\n",
       "1141      Installed malware\n",
       "1142      Installed malware\n",
       "1143         Web compromise\n",
       "1144    Misuse of resources\n",
       "Name: Attack type, Length: 1145, dtype: object"
      ]
     },
     "execution_count": 78,
     "metadata": {},
     "output_type": "execute_result"
    }
   ],
   "source": [
    "y # without label encoder"
   ]
  },
  {
   "cell_type": "code",
   "execution_count": 79,
   "metadata": {},
   "outputs": [],
   "source": [
    "from sklearn.model_selection import train_test_split "
   ]
  },
  {
   "cell_type": "code",
   "execution_count": 80,
   "metadata": {},
   "outputs": [],
   "source": [
    "X_train,X_test,Y_train,Y_test=train_test_split(x,y,test_size=0.3,random_state=1)# spliting the data into training and test"
   ]
  },
  {
   "cell_type": "markdown",
   "metadata": {},
   "source": [
    "creating a function to test your model"
   ]
  },
  {
   "cell_type": "code",
   "execution_count": 81,
   "metadata": {},
   "outputs": [],
   "source": [
    "def createm(model):\n",
    "    model.fit(X_train,Y_train)\n",
    "    Y_pred=model.predict(X_test)\n",
    "    print(classification_report(Y_test,Y_pred))\n",
    "    print(confusion_matrix(Y_test,Y_pred))\n",
    "    return model"
   ]
  },
  {
   "cell_type": "code",
   "execution_count": 82,
   "metadata": {},
   "outputs": [],
   "source": [
    "from sklearn.metrics import classification_report # print the output\n",
    "from sklearn.metrics import confusion_matrix"
   ]
  },
  {
   "cell_type": "markdown",
   "metadata": {},
   "source": [
    "# unbalanced data"
   ]
  },
  {
   "cell_type": "code",
   "execution_count": 83,
   "metadata": {},
   "outputs": [],
   "source": [
    "from sklearn.linear_model import LogisticRegression"
   ]
  },
  {
   "cell_type": "code",
   "execution_count": 84,
   "metadata": {},
   "outputs": [],
   "source": [
    "lr=LogisticRegression()"
   ]
  },
  {
   "cell_type": "code",
   "execution_count": 85,
   "metadata": {},
   "outputs": [
    {
     "name": "stdout",
     "output_type": "stream",
     "text": [
      "                     precision    recall  f1-score   support\n",
      "\n",
      "  Installed malware       0.96      0.90      0.93       202\n",
      "Misuse of resources       0.64      0.78      0.70        50\n",
      "     Physical Theft       0.93      0.96      0.94        69\n",
      "     Web compromise       1.00      0.96      0.98        23\n",
      "\n",
      "           accuracy                           0.90       344\n",
      "          macro avg       0.88      0.90      0.89       344\n",
      "       weighted avg       0.91      0.90      0.90       344\n",
      "\n",
      "[[182  19   1   0]\n",
      " [  8  39   3   0]\n",
      " [  0   3  66   0]\n",
      " [  0   0   1  22]]\n"
     ]
    },
    {
     "data": {
      "text/plain": [
       "LogisticRegression()"
      ]
     },
     "execution_count": 85,
     "metadata": {},
     "output_type": "execute_result"
    }
   ],
   "source": [
    "createm(lr)"
   ]
  },
  {
   "cell_type": "markdown",
   "metadata": {},
   "source": [
    "# Using feature selection to select the best features in the model "
   ]
  },
  {
   "cell_type": "code",
   "execution_count": 86,
   "metadata": {},
   "outputs": [],
   "source": [
    "from sklearn.feature_selection import SelectKBest\n",
    "from sklearn.feature_selection import f_regression\n"
   ]
  },
  {
   "cell_type": "code",
   "execution_count": 87,
   "metadata": {},
   "outputs": [],
   "source": [
    "y1=le.fit_transform(y1)"
   ]
  },
  {
   "cell_type": "code",
   "execution_count": 104,
   "metadata": {},
   "outputs": [],
   "source": [
    "X_train,X_test,Y_train,Y_test=train_test_split(x,y1,test_size=0.3,random_state=1)# y1 to correct the error with label encoding"
   ]
  },
  {
   "cell_type": "code",
   "execution_count": 105,
   "metadata": {},
   "outputs": [],
   "source": [
    "anova=SelectKBest(score_func=f_regression,k=6)"
   ]
  },
  {
   "cell_type": "code",
   "execution_count": 106,
   "metadata": {},
   "outputs": [],
   "source": [
    "X_train_imp=anova.fit_transform(X_train,Y_train)"
   ]
  },
  {
   "cell_type": "code",
   "execution_count": 107,
   "metadata": {},
   "outputs": [],
   "source": [
    "X_test_imp=anova.transform(X_test)"
   ]
  },
  {
   "cell_type": "code",
   "execution_count": 108,
   "metadata": {},
   "outputs": [
    {
     "data": {
      "text/plain": [
       "array([False, False, False, False, False, False, False, False, False,\n",
       "       False, False,  True, False, False, False, False, False, False,\n",
       "       False,  True, False, False,  True,  True, False, False, False,\n",
       "        True,  True, False, False, False, False, False, False, False,\n",
       "       False, False])"
      ]
     },
     "execution_count": 108,
     "metadata": {},
     "output_type": "execute_result"
    }
   ],
   "source": [
    "anova.get_support()"
   ]
  },
  {
   "cell_type": "code",
   "execution_count": 109,
   "metadata": {},
   "outputs": [
    {
     "data": {
      "text/plain": [
       "Index(['Organisation', 'Critical Industry', 'Organisation size',\n",
       "       'Level of digital intensity', 'Sector', 'Country',\n",
       "       'Cyber security role', 'Cyber security frameworks',\n",
       "       'Education and awareness policy', 'Policy',\n",
       "       'Prevention, Detection and Recovery', 'Improper network segmentation',\n",
       "       'Inappropriate remote access', 'Absence of encryption', 'Detector',\n",
       "       'Restructuring after attack', 'Bribe/ransom paid',\n",
       "       'Free identity or credit theft monitoring',\n",
       "       'Additional disclosure of information', 'Overall nature of attack',\n",
       "       'Attacker', 'Attack vector', 'Impact on data',\n",
       "       'Aspect of Confidentiality-Integrity-Availability triad affected',\n",
       "       'Individual(s) name(s) leaked/exposed', 'Address(es) leaked/exposed',\n",
       "       'Other personally identifiable information (PII) leaked/exposed',\n",
       "       'Track 1 - Credit card details leaked/exposed',\n",
       "       'Social security number/tax number leaked/exposed',\n",
       "       'Subsequent fraudulent use of data', 'Investigation',\n",
       "       'Undertook investigation', 'Litigation by public',\n",
       "       'Penalties/settlement paid or actions imposed',\n",
       "       'Imposed penalties or actions on organisation',\n",
       "       'Fines issued by government or relevant body', 'Settlement paid',\n",
       "       'Number of users affected'],\n",
       "      dtype='object')"
      ]
     },
     "execution_count": 109,
     "metadata": {},
     "output_type": "execute_result"
    }
   ],
   "source": [
    "x.columns"
   ]
  },
  {
   "cell_type": "code",
   "execution_count": 110,
   "metadata": {},
   "outputs": [
    {
     "name": "stdout",
     "output_type": "stream",
     "text": [
      "              precision    recall  f1-score   support\n",
      "\n",
      "           0       0.96      0.90      0.93       202\n",
      "           1       0.64      0.78      0.70        50\n",
      "           2       0.93      0.96      0.94        69\n",
      "           3       1.00      0.96      0.98        23\n",
      "\n",
      "    accuracy                           0.90       344\n",
      "   macro avg       0.88      0.90      0.89       344\n",
      "weighted avg       0.91      0.90      0.90       344\n",
      "\n",
      "[[182  19   1   0]\n",
      " [  8  39   3   0]\n",
      " [  0   3  66   0]\n",
      " [  0   0   1  22]]\n"
     ]
    },
    {
     "data": {
      "text/plain": [
       "LogisticRegression()"
      ]
     },
     "execution_count": 110,
     "metadata": {},
     "output_type": "execute_result"
    }
   ],
   "source": [
    "createm(lr)"
   ]
  },
  {
   "cell_type": "code",
   "execution_count": 111,
   "metadata": {},
   "outputs": [],
   "source": [
    "from sklearn.neighbors import KNeighborsClassifier"
   ]
  },
  {
   "cell_type": "code",
   "execution_count": 112,
   "metadata": {},
   "outputs": [],
   "source": [
    "n=4\n",
    "knc=KNeighborsClassifier(n_neighbors = n)\n"
   ]
  },
  {
   "cell_type": "code",
   "execution_count": 113,
   "metadata": {},
   "outputs": [
    {
     "name": "stdout",
     "output_type": "stream",
     "text": [
      "              precision    recall  f1-score   support\n",
      "\n",
      "           0       0.77      0.86      0.81       202\n",
      "           1       0.36      0.32      0.34        50\n",
      "           2       0.79      0.75      0.77        69\n",
      "           3       0.75      0.26      0.39        23\n",
      "\n",
      "    accuracy                           0.72       344\n",
      "   macro avg       0.67      0.55      0.58       344\n",
      "weighted avg       0.71      0.72      0.70       344\n",
      "\n",
      "[[173  18   9   2]\n",
      " [ 31  16   3   0]\n",
      " [ 12   5  52   0]\n",
      " [ 10   5   2   6]]\n"
     ]
    },
    {
     "data": {
      "text/plain": [
       "KNeighborsClassifier(n_neighbors=4)"
      ]
     },
     "execution_count": 113,
     "metadata": {},
     "output_type": "execute_result"
    }
   ],
   "source": [
    "createm(knc)"
   ]
  },
  {
   "cell_type": "code",
   "execution_count": 114,
   "metadata": {},
   "outputs": [],
   "source": [
    "from sklearn.svm import SVC"
   ]
  },
  {
   "cell_type": "code",
   "execution_count": 115,
   "metadata": {},
   "outputs": [],
   "source": [
    "svc=SVC()"
   ]
  },
  {
   "cell_type": "code",
   "execution_count": 116,
   "metadata": {},
   "outputs": [
    {
     "name": "stdout",
     "output_type": "stream",
     "text": [
      "              precision    recall  f1-score   support\n",
      "\n",
      "           0       0.92      0.93      0.92       202\n",
      "           1       0.67      0.70      0.69        50\n",
      "           2       0.90      0.93      0.91        69\n",
      "           3       0.94      0.74      0.83        23\n",
      "\n",
      "    accuracy                           0.88       344\n",
      "   macro avg       0.86      0.82      0.84       344\n",
      "weighted avg       0.88      0.88      0.88       344\n",
      "\n",
      "[[187  14   1   0]\n",
      " [ 14  35   1   0]\n",
      " [  1   3  64   1]\n",
      " [  1   0   5  17]]\n"
     ]
    },
    {
     "data": {
      "text/plain": [
       "SVC()"
      ]
     },
     "execution_count": 116,
     "metadata": {},
     "output_type": "execute_result"
    }
   ],
   "source": [
    "createm(svc)"
   ]
  },
  {
   "cell_type": "code",
   "execution_count": 117,
   "metadata": {},
   "outputs": [],
   "source": [
    "from xgboost import XGBClassifier"
   ]
  },
  {
   "cell_type": "code",
   "execution_count": 118,
   "metadata": {},
   "outputs": [],
   "source": [
    "xgb = XGBClassifier(max_depth = 4)"
   ]
  },
  {
   "cell_type": "code",
   "execution_count": 119,
   "metadata": {},
   "outputs": [
    {
     "name": "stderr",
     "output_type": "stream",
     "text": [
      "C:\\Users\\lenovo\\anaconda3\\lib\\site-packages\\xgboost\\sklearn.py:1146: UserWarning: The use of label encoder in XGBClassifier is deprecated and will be removed in a future release. To remove this warning, do the following: 1) Pass option use_label_encoder=False when constructing XGBClassifier object; and 2) Encode your labels (y) as integers starting with 0, i.e. 0, 1, 2, ..., [num_class - 1].\n",
      "  warnings.warn(label_encoder_deprecation_msg, UserWarning)\n"
     ]
    },
    {
     "name": "stdout",
     "output_type": "stream",
     "text": [
      "[23:41:16] WARNING: C:/Users/Administrator/workspace/xgboost-win64_release_1.4.0/src/learner.cc:1095: Starting in XGBoost 1.3.0, the default evaluation metric used with the objective 'multi:softprob' was changed from 'merror' to 'mlogloss'. Explicitly set eval_metric if you'd like to restore the old behavior.\n",
      "              precision    recall  f1-score   support\n",
      "\n",
      "           0       0.95      0.92      0.93       202\n",
      "           1       0.71      0.82      0.76        50\n",
      "           2       1.00      1.00      1.00        69\n",
      "           3       1.00      1.00      1.00        23\n",
      "\n",
      "    accuracy                           0.92       344\n",
      "   macro avg       0.92      0.93      0.92       344\n",
      "weighted avg       0.93      0.92      0.93       344\n",
      "\n",
      "[[185  17   0   0]\n",
      " [  9  41   0   0]\n",
      " [  0   0  69   0]\n",
      " [  0   0   0  23]]\n"
     ]
    },
    {
     "data": {
      "text/plain": [
       "XGBClassifier(base_score=0.5, booster='gbtree', colsample_bylevel=1,\n",
       "              colsample_bynode=1, colsample_bytree=1, gamma=0, gpu_id=-1,\n",
       "              importance_type='gain', interaction_constraints='',\n",
       "              learning_rate=0.300000012, max_delta_step=0, max_depth=4,\n",
       "              min_child_weight=1, missing=nan, monotone_constraints='()',\n",
       "              n_estimators=100, n_jobs=4, num_parallel_tree=1,\n",
       "              objective='multi:softprob', random_state=0, reg_alpha=0,\n",
       "              reg_lambda=1, scale_pos_weight=None, subsample=1,\n",
       "              tree_method='exact', validate_parameters=1, verbosity=None)"
      ]
     },
     "execution_count": 119,
     "metadata": {},
     "output_type": "execute_result"
    }
   ],
   "source": [
    "createm(xgb)"
   ]
  },
  {
   "cell_type": "code",
   "execution_count": 120,
   "metadata": {},
   "outputs": [
    {
     "name": "stdout",
     "output_type": "stream",
     "text": [
      "<class 'pandas.core.frame.DataFrame'>\n",
      "RangeIndex: 1145 entries, 0 to 1144\n",
      "Data columns (total 39 columns):\n",
      " #   Column                                                           Non-Null Count  Dtype  \n",
      "---  ------                                                           --------------  -----  \n",
      " 0   Organisation                                                     1145 non-null   float64\n",
      " 1   Critical Industry                                                1145 non-null   float64\n",
      " 2   Organisation size                                                1145 non-null   float64\n",
      " 3   Level of digital intensity                                       1145 non-null   float64\n",
      " 4   Sector                                                           1145 non-null   float64\n",
      " 5   Country                                                          1145 non-null   float64\n",
      " 6   Cyber security role                                              1145 non-null   float64\n",
      " 7   Cyber security frameworks                                        1145 non-null   float64\n",
      " 8   Education and awareness policy                                   1145 non-null   float64\n",
      " 9   Policy                                                           1145 non-null   float64\n",
      " 10  Prevention, Detection and Recovery                               1145 non-null   float64\n",
      " 11  Improper network segmentation                                    1145 non-null   float64\n",
      " 12  Inappropriate remote access                                      1145 non-null   float64\n",
      " 13  Absence of encryption                                            1145 non-null   float64\n",
      " 14  Detector                                                         1145 non-null   float64\n",
      " 15  Restructuring after attack                                       1145 non-null   float64\n",
      " 16  Bribe/ransom paid                                                1145 non-null   float64\n",
      " 17  Free identity or credit theft monitoring                         1145 non-null   float64\n",
      " 18  Additional disclosure of information                             1145 non-null   float64\n",
      " 19  Overall nature of attack                                         1145 non-null   float64\n",
      " 20  Attack type                                                      1145 non-null   float64\n",
      " 21  Attacker                                                         1145 non-null   float64\n",
      " 22  Attack vector                                                    1145 non-null   float64\n",
      " 23  Impact on data                                                   1145 non-null   float64\n",
      " 24  Aspect of Confidentiality-Integrity-Availability triad affected  1145 non-null   float64\n",
      " 25  Individual(s) name(s) leaked/exposed                             1145 non-null   float64\n",
      " 26  Address(es) leaked/exposed                                       1145 non-null   float64\n",
      " 27  Other personally identifiable information (PII) leaked/exposed   1145 non-null   float64\n",
      " 28  Track 1 - Credit card details leaked/exposed                     1145 non-null   float64\n",
      " 29  Social security number/tax number leaked/exposed                 1145 non-null   float64\n",
      " 30  Subsequent fraudulent use of data                                1145 non-null   float64\n",
      " 31  Investigation                                                    1145 non-null   float64\n",
      " 32  Undertook investigation                                          1145 non-null   float64\n",
      " 33  Litigation by public                                             1145 non-null   float64\n",
      " 34  Penalties/settlement paid or actions imposed                     1145 non-null   float64\n",
      " 35  Imposed penalties or actions on organisation                     1145 non-null   float64\n",
      " 36  Fines issued by government or relevant body                      1145 non-null   float64\n",
      " 37  Settlement paid                                                  1145 non-null   float64\n",
      " 38  Number of users affected                                         1145 non-null   float64\n",
      "dtypes: float64(39)\n",
      "memory usage: 349.0 KB\n"
     ]
    }
   ],
   "source": [
    "df_new.info()"
   ]
  },
  {
   "cell_type": "markdown",
   "metadata": {},
   "source": [
    "# Balanced Data"
   ]
  },
  {
   "cell_type": "code",
   "execution_count": null,
   "metadata": {},
   "outputs": [],
   "source": [
    "!pip install imblearn"
   ]
  },
  {
   "cell_type": "code",
   "execution_count": null,
   "metadata": {},
   "outputs": [],
   "source": [
    "#from imblearn.under_sampling import RandomUnderSampler\n",
    "from imblearn.over_sampling import RandomOverSampler # used to balanced the data"
   ]
  },
  {
   "cell_type": "code",
   "execution_count": null,
   "metadata": {},
   "outputs": [],
   "source": [
    "ros = RandomOverSampler() "
   ]
  },
  {
   "cell_type": "code",
   "execution_count": null,
   "metadata": {},
   "outputs": [],
   "source": [
    "X_train1,Y_train1=ros.fit_resample(X_train,Y_train)"
   ]
  },
  {
   "cell_type": "code",
   "execution_count": null,
   "metadata": {},
   "outputs": [],
   "source": [
    "pd.Series(Y_train1).value_counts()"
   ]
  },
  {
   "cell_type": "code",
   "execution_count": null,
   "metadata": {},
   "outputs": [],
   "source": [
    "pd.Series(Y_test).value_counts() "
   ]
  },
  {
   "cell_type": "code",
   "execution_count": null,
   "metadata": {},
   "outputs": [],
   "source": [
    "X_test1,Y_test1=ros.fit_resample(X_test,Y_test)"
   ]
  },
  {
   "cell_type": "code",
   "execution_count": null,
   "metadata": {},
   "outputs": [],
   "source": [
    "pd.Series(Y_test1).value_counts()"
   ]
  },
  {
   "cell_type": "code",
   "execution_count": null,
   "metadata": {},
   "outputs": [],
   "source": [
    "def createm(model):\n",
    "    model.fit(X_train1,Y_train1)\n",
    "    Y_pred=model.predict(X_test1)\n",
    "    print(classification_report(Y_test1,Y_pred))\n",
    "    print(confusion_matrix(Y_test1,Y_pred))\n",
    "    return model"
   ]
  },
  {
   "cell_type": "markdown",
   "metadata": {},
   "source": [
    "# 1 model logistic regression"
   ]
  },
  {
   "cell_type": "code",
   "execution_count": null,
   "metadata": {},
   "outputs": [],
   "source": [
    "createm(lr)"
   ]
  },
  {
   "cell_type": "markdown",
   "metadata": {},
   "source": [
    "# 2 model decission tree "
   ]
  },
  {
   "cell_type": "code",
   "execution_count": null,
   "metadata": {},
   "outputs": [],
   "source": [
    "from sklearn.tree import DecisionTreeClassifier"
   ]
  },
  {
   "cell_type": "code",
   "execution_count": null,
   "metadata": {},
   "outputs": [],
   "source": [
    "dt=DecisionTreeClassifier()"
   ]
  },
  {
   "cell_type": "code",
   "execution_count": null,
   "metadata": {},
   "outputs": [],
   "source": [
    "createm(dt)"
   ]
  },
  {
   "cell_type": "markdown",
   "metadata": {},
   "source": [
    "# 3randomForest"
   ]
  },
  {
   "cell_type": "code",
   "execution_count": null,
   "metadata": {},
   "outputs": [],
   "source": [
    "from sklearn.ensemble import RandomForestClassifier "
   ]
  },
  {
   "cell_type": "code",
   "execution_count": null,
   "metadata": {},
   "outputs": [],
   "source": [
    "rfc=RandomForestClassifier(max_depth = 4)"
   ]
  },
  {
   "cell_type": "code",
   "execution_count": null,
   "metadata": {},
   "outputs": [],
   "source": [
    "createm(rfc)"
   ]
  },
  {
   "cell_type": "markdown",
   "metadata": {},
   "source": [
    "# 4 K-Nearest Neighbors"
   ]
  },
  {
   "cell_type": "code",
   "execution_count": null,
   "metadata": {},
   "outputs": [],
   "source": [
    "createm(knc)"
   ]
  },
  {
   "cell_type": "markdown",
   "metadata": {},
   "source": [
    "# 5 Support Vector Machines"
   ]
  },
  {
   "cell_type": "code",
   "execution_count": null,
   "metadata": {},
   "outputs": [],
   "source": [
    "createm(svc)"
   ]
  },
  {
   "cell_type": "markdown",
   "metadata": {},
   "source": [
    "# 5 XGBClassifier"
   ]
  },
  {
   "cell_type": "code",
   "execution_count": null,
   "metadata": {},
   "outputs": [],
   "source": [
    "createm(xgb)"
   ]
  },
  {
   "cell_type": "code",
   "execution_count": null,
   "metadata": {},
   "outputs": [],
   "source": [
    "df_test=df_new"
   ]
  },
  {
   "cell_type": "code",
   "execution_count": null,
   "metadata": {},
   "outputs": [],
   "source": [
    "df_test.info()"
   ]
  },
  {
   "cell_type": "code",
   "execution_count": null,
   "metadata": {},
   "outputs": [],
   "source": [
    "df_test.drop(\"Attack type\",axis=1,inplace=True)"
   ]
  },
  {
   "cell_type": "code",
   "execution_count": null,
   "metadata": {},
   "outputs": [],
   "source": [
    "df_test"
   ]
  },
  {
   "cell_type": "code",
   "execution_count": null,
   "metadata": {},
   "outputs": [],
   "source": [
    "test=df_test.iloc[4]"
   ]
  },
  {
   "cell_type": "code",
   "execution_count": null,
   "metadata": {},
   "outputs": [],
   "source": [
    "test"
   ]
  },
  {
   "cell_type": "code",
   "execution_count": null,
   "metadata": {},
   "outputs": [],
   "source": [
    "df_test"
   ]
  },
  {
   "cell_type": "code",
   "execution_count": null,
   "metadata": {},
   "outputs": [],
   "source": [
    "test = pd.Series(test).values.reshape(1,-1)"
   ]
  },
  {
   "cell_type": "code",
   "execution_count": null,
   "metadata": {},
   "outputs": [],
   "source": [
    "lr.predict(test)"
   ]
  },
  {
   "cell_type": "code",
   "execution_count": null,
   "metadata": {},
   "outputs": [],
   "source": [
    "lr.predict(X_test1)"
   ]
  },
  {
   "cell_type": "code",
   "execution_count": null,
   "metadata": {},
   "outputs": [],
   "source": [
    "\n",
    "    "
   ]
  },
  {
   "cell_type": "code",
   "execution_count": null,
   "metadata": {},
   "outputs": [],
   "source": []
  },
  {
   "cell_type": "code",
   "execution_count": null,
   "metadata": {},
   "outputs": [],
   "source": []
  },
  {
   "cell_type": "code",
   "execution_count": null,
   "metadata": {},
   "outputs": [],
   "source": []
  },
  {
   "cell_type": "code",
   "execution_count": null,
   "metadata": {},
   "outputs": [],
   "source": []
  }
 ],
 "metadata": {
  "kernelspec": {
   "display_name": "Python 3",
   "language": "python",
   "name": "python3"
  },
  "language_info": {
   "codemirror_mode": {
    "name": "ipython",
    "version": 3
   },
   "file_extension": ".py",
   "mimetype": "text/x-python",
   "name": "python",
   "nbconvert_exporter": "python",
   "pygments_lexer": "ipython3",
   "version": "3.8.5"
  }
 },
 "nbformat": 4,
 "nbformat_minor": 4
}
